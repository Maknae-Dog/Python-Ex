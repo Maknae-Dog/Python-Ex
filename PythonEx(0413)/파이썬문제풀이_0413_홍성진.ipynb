{
 "cells": [
  {
   "cell_type": "markdown",
   "id": "a6e1c3a8-fa58-4e1b-8710-5f970a509a28",
   "metadata": {},
   "source": [
    "# 001 print 기초\n",
    "화면에 Hello World 문자열을 출력하세요"
   ]
  },
  {
   "cell_type": "code",
   "execution_count": 4,
   "id": "2dfc5ffb-8acb-4800-b541-1e60f50f94ca",
   "metadata": {},
   "outputs": [
    {
     "name": "stdout",
     "output_type": "stream",
     "text": [
      "Hello World\n"
     ]
    }
   ],
   "source": [
    "print(\"Hello World\")"
   ]
  },
  {
   "cell_type": "markdown",
   "id": "5befa1ca-1121-4d55-b46c-3fad3e4463f0",
   "metadata": {},
   "source": [
    "# 002 print 기초\n",
    "화면에 Mary's cosmetics을 출력하세요. (중간에 '가 있음에 주의하세요)"
   ]
  },
  {
   "cell_type": "code",
   "execution_count": 8,
   "id": "86031cad-03b2-4285-8439-39181f7f0e6e",
   "metadata": {},
   "outputs": [
    {
     "name": "stdout",
     "output_type": "stream",
     "text": [
      "Mary's cosmetics\n"
     ]
    }
   ],
   "source": [
    "print(\"Mary's cosmetics\")"
   ]
  },
  {
   "cell_type": "markdown",
   "id": "1d756f7f-f2fb-42d6-a3b3-4baa1d0d34a6",
   "metadata": {},
   "source": [
    "# 003 print 기초\n",
    "화면에 아래 문장을 출력하세요. (중간에 \"가 있음에 주의하세요.)\n"
   ]
  },
  {
   "cell_type": "markdown",
   "id": "b9721cf0-e183-4ff0-b913-4ee0edb52c71",
   "metadata": {},
   "source": [
    "신씨가 소리질렀다. \"도둑이야\"."
   ]
  },
  {
   "cell_type": "code",
   "execution_count": 7,
   "id": "1cf3adbc-b874-4167-ac6b-4f7e9afe78c7",
   "metadata": {},
   "outputs": [
    {
     "name": "stdout",
     "output_type": "stream",
     "text": [
      "신씨가 소리질렀다. \"도둑이야\".\n"
     ]
    }
   ],
   "source": [
    "print('신씨가 소리질렀다. \"도둑이야\".')"
   ]
  },
  {
   "cell_type": "markdown",
   "id": "b22b59ce-5747-4f0b-90ef-4faaad243dec",
   "metadata": {},
   "source": [
    "# 004 print 기초\n",
    "화면에 C:\\Windows를 출력하세요."
   ]
  },
  {
   "cell_type": "code",
   "execution_count": 9,
   "id": "e67ddb0e-f6a5-4218-9925-47ed1a6bc58d",
   "metadata": {},
   "outputs": [
    {
     "name": "stdout",
     "output_type": "stream",
     "text": [
      "C:\\Windows\n"
     ]
    }
   ],
   "source": [
    "print(\"C:\\\\Windows\")"
   ]
  },
  {
   "cell_type": "markdown",
   "id": "a081a63d-e6a0-452b-9c0d-b02aea71768c",
   "metadata": {},
   "source": [
    "# 005 print 탭과 줄바꿈\n",
    "다음 코드를 실행해보고 \\t와 \\n의 역할을 설명해보세요.\r\n",
    "\r\n"
   ]
  },
  {
   "cell_type": "code",
   "execution_count": 10,
   "id": "678e6287-251d-49bc-80b5-599cec36eb98",
   "metadata": {},
   "outputs": [
    {
     "name": "stdout",
     "output_type": "stream",
     "text": [
      "안녕하세요.\n",
      "만나서\t\t반갑습니다.\n"
     ]
    }
   ],
   "source": [
    "print(\"안녕하세요.\\n만나서\\t\\t반갑습니다.\")"
   ]
  },
  {
   "cell_type": "markdown",
   "id": "b6fc4381-9503-4923-9c9a-f996a83c11bb",
   "metadata": {},
   "source": [
    "\\n = 줄 바꿔서 출력\n",
    "\\t = 1 탭만큼 띄어쓰기 하고 출력"
   ]
  },
  {
   "cell_type": "markdown",
   "id": "524a13ec-751f-4a5d-9c00-91e17ac64b21",
   "metadata": {},
   "source": [
    "# 006 print 여러 데이터 출력\n",
    "print 함수에 두 개의 단어를 입력한 예제입니다. 아래 코드의 출력 결과를 예상해봅시다."
   ]
  },
  {
   "cell_type": "code",
   "execution_count": 11,
   "id": "cda8a070-c421-4f37-abcd-1962a230022c",
   "metadata": {},
   "outputs": [
    {
     "name": "stdout",
     "output_type": "stream",
     "text": [
      "오늘은 일요일\n"
     ]
    }
   ],
   "source": [
    "print (\"오늘은\", \"일요일\")"
   ]
  },
  {
   "cell_type": "markdown",
   "id": "b0846619-c43d-4ec5-a12d-becffeb9570d",
   "metadata": {},
   "source": [
    "# 007 print 기초\n",
    "print() 함수를 사용하여 다음과 같이 출력하세요."
   ]
  },
  {
   "cell_type": "markdown",
   "id": "6b0adc95-a34f-4de0-ad41-d484347c0ab8",
   "metadata": {},
   "source": [
    "naver;kakao;sk;samsung"
   ]
  },
  {
   "cell_type": "code",
   "execution_count": 12,
   "id": "99c3b317-2726-42e4-afce-6840013523ba",
   "metadata": {},
   "outputs": [
    {
     "name": "stdout",
     "output_type": "stream",
     "text": [
      "naver;kakao;sk;samsung\n"
     ]
    }
   ],
   "source": [
    "print(\"naver;kakao;sk;samsung\")"
   ]
  },
  {
   "cell_type": "markdown",
   "id": "4929fb28-2da7-4d0f-92dd-3dd0b6654a40",
   "metadata": {},
   "source": [
    "# 008 print 기초\n",
    "print() 함수를 사용하여 다음과 같이 출력하세요."
   ]
  },
  {
   "cell_type": "markdown",
   "id": "c63d6daa-a0d4-4921-a75c-9da5b567ca3e",
   "metadata": {},
   "source": [
    "naver/kakao/sk/samsung"
   ]
  },
  {
   "cell_type": "code",
   "execution_count": 13,
   "id": "b4bfad70-617d-40a5-b26f-814a701c21cd",
   "metadata": {},
   "outputs": [
    {
     "name": "stdout",
     "output_type": "stream",
     "text": [
      "naver/kakao/sk/samsung\n"
     ]
    }
   ],
   "source": [
    "print(\"naver/kakao/sk/samsung\")"
   ]
  },
  {
   "cell_type": "markdown",
   "id": "3386f0be-eb8a-4d71-93db-d491f0b0adae",
   "metadata": {},
   "source": [
    "# 009 print 줄바꿈\n",
    "다음 코드를 수정하여 줄바꿈이 없이 출력하세요. (힌트: end='') print 함수는 두 번 사용합니다. 세미콜론 (;)은 한줄에 여러 개의 명령을 작성하기 위해 사용합니다."
   ]
  },
  {
   "cell_type": "code",
   "execution_count": 14,
   "id": "278b3d14-51f7-444d-9b0c-3428d68738bc",
   "metadata": {},
   "outputs": [
    {
     "name": "stdout",
     "output_type": "stream",
     "text": [
      "first\n",
      "second\n"
     ]
    }
   ],
   "source": [
    "print(\"first\");print(\"second\")"
   ]
  },
  {
   "cell_type": "code",
   "execution_count": 21,
   "id": "d7807b84-9a15-4df0-a4d4-ed5d5b98962a",
   "metadata": {},
   "outputs": [
    {
     "name": "stdout",
     "output_type": "stream",
     "text": [
      "firstsecond"
     ]
    }
   ],
   "source": [
    "print(\"first\", end=''); print(\"second\", end='')"
   ]
  },
  {
   "cell_type": "markdown",
   "id": "adee8814-e8af-4d5d-b54c-46d80522cfef",
   "metadata": {},
   "source": [
    " end를 빈 문자열('')로 설정하면 줄 바꿈을 하지 않고 출력합니다."
   ]
  },
  {
   "cell_type": "markdown",
   "id": "bb571c95-f294-45f1-8a0c-b30255a87048",
   "metadata": {},
   "source": [
    "# 010 연산 결과 출력\n",
    "5/3의 결과를 화면에 출력하세요."
   ]
  },
  {
   "cell_type": "code",
   "execution_count": 23,
   "id": "8d623b55-fd35-4985-b416-a601abbad65f",
   "metadata": {},
   "outputs": [
    {
     "name": "stdout",
     "output_type": "stream",
     "text": [
      "1.6666666666666667\n"
     ]
    }
   ],
   "source": [
    "print(5/3)"
   ]
  },
  {
   "cell_type": "markdown",
   "id": "e42cfb03-5d94-4d80-ba23-22673a1fec6b",
   "metadata": {},
   "source": [
    "# 011 변수 사용하기\n",
    "삼성전자라는 변수로 50,000원을 바인딩해보세요. 삼성전자 주식 10주를 보유하고 있을 때 총 평가금액을 출력하세요."
   ]
  },
  {
   "cell_type": "code",
   "execution_count": 24,
   "id": "abed2b3f-925e-4bb7-8754-b150752ab9bc",
   "metadata": {},
   "outputs": [
    {
     "name": "stdout",
     "output_type": "stream",
     "text": [
      "500000\n"
     ]
    }
   ],
   "source": [
    "삼성전자 = 50000\n",
    "주식 = 10\n",
    "평가금액 = 삼성전자*주식\n",
    "print(평가금액)"
   ]
  },
  {
   "cell_type": "markdown",
   "id": "2b2c80b4-6fb3-4d62-acfc-6458783d5446",
   "metadata": {},
   "source": [
    "# 012 변수 사용하기\n",
    "다음 표는 삼성전자의 일부 투자정보입니다. 변수를 사용해서 시가총액, 현재가, PER 등을 바인딩해보세요."
   ]
  },
  {
   "cell_type": "markdown",
   "id": "cd13e785-71ad-4ab3-8a77-391e8c08c072",
   "metadata": {},
   "source": [
    "항목     |  값 <br>\n",
    "시가총액 |  298조<br>\n",
    "현재가   | 50,000원<br>\n",
    "PER     |  15.79 "
   ]
  },
  {
   "cell_type": "code",
   "execution_count": 27,
   "id": "ef8714bf-d5df-4e0e-ae9e-0e4db68c0cf7",
   "metadata": {},
   "outputs": [],
   "source": [
    "시가총액 = \"298조\"\n",
    "현재가 = \"50.000원\"\n",
    "PER = \"15.79\""
   ]
  },
  {
   "cell_type": "markdown",
   "id": "34422dbb-959e-4467-b733-cdbae7538768",
   "metadata": {},
   "source": [
    "# 013 문자열 출력\n",
    "변수 s와 t에는 각각 문자열이 바인딩 되어있습니다."
   ]
  },
  {
   "cell_type": "code",
   "execution_count": 29,
   "id": "53f3af03-df38-4c61-b850-538b1bf706dc",
   "metadata": {},
   "outputs": [],
   "source": [
    "s = \"hello\"\n",
    "t = \"python\""
   ]
  },
  {
   "cell_type": "markdown",
   "id": "55decda1-b9d8-47d2-8ab4-4719c00dcca8",
   "metadata": {},
   "source": [
    "두 변수를 이용하여 아래와 같이 출력해보세요.<br>\n",
    "실행 예:<br>\r\n",
    "hello! python"
   ]
  },
  {
   "cell_type": "code",
   "execution_count": 30,
   "id": "bb86a8a5-7004-4bba-a11c-8e059b972a0e",
   "metadata": {},
   "outputs": [
    {
     "name": "stdout",
     "output_type": "stream",
     "text": [
      "hello! python\n"
     ]
    }
   ],
   "source": [
    "print(s+\"!\"+\" \"+t)"
   ]
  },
  {
   "cell_type": "markdown",
   "id": "654b56d2-b081-486c-88af-60b1c917ea41",
   "metadata": {},
   "source": [
    "# 014 파이썬을 이용한 값 계산\n",
    "아래 코드의 실행 결과를 예상해보세요.<br>\n",
    " 2 + 2 * 3 "
   ]
  },
  {
   "cell_type": "code",
   "execution_count": 31,
   "id": "3274ccfd-2bab-40c2-85bd-cf0439a229fc",
   "metadata": {},
   "outputs": [
    {
     "data": {
      "text/plain": [
       "8"
      ]
     },
     "execution_count": 31,
     "metadata": {},
     "output_type": "execute_result"
    }
   ],
   "source": [
    " 2 + 2 * 3 "
   ]
  },
  {
   "cell_type": "markdown",
   "id": "cb07997a-afc6-46ed-a2d6-39711775c0be",
   "metadata": {},
   "source": [
    "# 015 type 함수\n",
    "type() 함수는 데이터 타입을 판별합니다. 변수 a에는 128 숫자가 바인딩돼 있어 type 함수가 int (정수)형임을 알려줍니다."
   ]
  },
  {
   "cell_type": "code",
   "execution_count": 33,
   "id": "05557082-59cb-4fab-ba11-fe874d149ed3",
   "metadata": {},
   "outputs": [
    {
     "name": "stdout",
     "output_type": "stream",
     "text": [
      "<class 'int'>\n"
     ]
    }
   ],
   "source": [
    "a = 128\n",
    "print (type(a))\n"
   ]
  },
  {
   "cell_type": "markdown",
   "id": "90e61594-20d8-4e52-9df8-1861834ad58d",
   "metadata": {},
   "source": [
    "아래 변수에 바인딩된 값의 타입을 판별해보세요."
   ]
  },
  {
   "cell_type": "code",
   "execution_count": 34,
   "id": "8613b719-c729-43c4-aa53-baa858a3318a",
   "metadata": {},
   "outputs": [],
   "source": [
    "a = \"132\""
   ]
  },
  {
   "cell_type": "code",
   "execution_count": 35,
   "id": "2ad28400-3e40-4dd3-81e1-c731c5f4cbce",
   "metadata": {},
   "outputs": [
    {
     "name": "stdout",
     "output_type": "stream",
     "text": [
      "<class 'str'>\n"
     ]
    }
   ],
   "source": [
    "print (type(a))"
   ]
  },
  {
   "cell_type": "markdown",
   "id": "591e0e29-0701-4813-b5f6-235c9bab4173",
   "metadata": {},
   "source": [
    "# 017 정수를 문자열 100으로 변환\n",
    "정수 100을 문자열 '100'으로 변환해보세요."
   ]
  },
  {
   "cell_type": "code",
   "execution_count": 36,
   "id": "94619806-2655-4773-be40-0ee561d350cc",
   "metadata": {},
   "outputs": [],
   "source": [
    "num = 100"
   ]
  },
  {
   "cell_type": "code",
   "execution_count": 43,
   "id": "b337e483-a13d-4613-872a-93502d1b26b6",
   "metadata": {},
   "outputs": [
    {
     "name": "stdout",
     "output_type": "stream",
     "text": [
      "100\n",
      "<class 'str'>\n"
     ]
    }
   ],
   "source": [
    "num = '100'\n",
    "print(num)\n",
    "print (type(num))"
   ]
  },
  {
   "cell_type": "markdown",
   "id": "2f98df40-24a6-4dfb-9990-e446db4e880e",
   "metadata": {},
   "source": [
    "# 018 문자열을 실수로 변환\n",
    "문자열 \"15.79\"를 실수(float) 타입으로 변환해보세요."
   ]
  },
  {
   "cell_type": "code",
   "execution_count": 45,
   "id": "d9a320d0-4062-40ba-a752-c8697ea4d4b7",
   "metadata": {},
   "outputs": [
    {
     "name": "stdout",
     "output_type": "stream",
     "text": [
      "15.79\n",
      "<class 'float'>\n"
     ]
    }
   ],
   "source": [
    "str = \"15.79\"\n",
    "str = 15.79\n",
    "print(str)\n",
    "print (type(str))"
   ]
  },
  {
   "cell_type": "markdown",
   "id": "0fc70bcf-f8a7-48ed-8b79-405ed22e78f9",
   "metadata": {},
   "source": [
    "# 019 문자열을 정수로 변환\n",
    "year라는 변수가 문자열 타입의 연도를 바인딩하고 있습니다. 이를 정수로 변환한 후 최근 3년의 연도를 화면에 출력해보세요."
   ]
  },
  {
   "cell_type": "code",
   "execution_count": 47,
   "id": "b8ad3b9a-c308-4577-bfc7-bcb64855fa5a",
   "metadata": {},
   "outputs": [],
   "source": [
    "year = \"2020\""
   ]
  },
  {
   "cell_type": "code",
   "execution_count": 48,
   "id": "2d4ebf2d-a7ce-401e-bd81-1b47d7e19f51",
   "metadata": {},
   "outputs": [
    {
     "name": "stdout",
     "output_type": "stream",
     "text": [
      "2021\n",
      "2022\n",
      "2023\n"
     ]
    }
   ],
   "source": [
    "year = 2020\n",
    "year +=1\n",
    "print(year)\n",
    "year +=1\n",
    "print(year)\n",
    "year +=1\n",
    "print(year)"
   ]
  },
  {
   "cell_type": "markdown",
   "id": "49908a65-c275-4e06-b542-d55db53fb2d3",
   "metadata": {},
   "source": [
    "# 020 파이썬 계산\n",
    "에이컨이 월 48,584원에 무이자 36개월의 조건으로 홈쇼핑에서 판매되고 있습니다. 총 금액은 계산한 후 이를 화면에 출력해보세요. (변수사용하기)"
   ]
  },
  {
   "cell_type": "code",
   "execution_count": 49,
   "id": "bf413012-87d8-4a6c-96ec-72c040d7e347",
   "metadata": {},
   "outputs": [
    {
     "name": "stdout",
     "output_type": "stream",
     "text": [
      "1749024\n"
     ]
    }
   ],
   "source": [
    "에어컨 = 48584\n",
    "이자 = 36\n",
    "총금액  = 에어컨 * 이자\n",
    "print(총금액)"
   ]
  },
  {
   "cell_type": "markdown",
   "id": "89c9e700-2953-4b22-86cd-a6b4e187f4d7",
   "metadata": {},
   "source": [
    "# 021 문자열 인덱싱\n",
    "letters가 바인딩하는 문자열에서 첫번째와 세번째 문자를 출력하세요."
   ]
  },
  {
   "cell_type": "code",
   "execution_count": 51,
   "id": "2644bbc6-6ae7-4ec6-8a59-f8e5ab1ac8f1",
   "metadata": {},
   "outputs": [],
   "source": [
    "letters = 'python'"
   ]
  },
  {
   "cell_type": "code",
   "execution_count": 53,
   "id": "4a0f21ca-ee06-4158-b3d1-688f64d0e119",
   "metadata": {},
   "outputs": [
    {
     "name": "stdout",
     "output_type": "stream",
     "text": [
      "p t\n"
     ]
    }
   ],
   "source": [
    "print(letters[0],letters[2])"
   ]
  },
  {
   "cell_type": "markdown",
   "id": "589748a8-ec51-4ecb-8c73-51ee8d8ea15b",
   "metadata": {},
   "source": [
    "# 022 문자열 슬라이싱\n",
    "자동차 번호가 다음과 같을 때 뒤에 4자리만 출력하세요."
   ]
  },
  {
   "cell_type": "code",
   "execution_count": 54,
   "id": "fc76bb16-df24-4361-8b24-6d2b558a00d8",
   "metadata": {},
   "outputs": [],
   "source": [
    "license_plate = \"24가 2210\""
   ]
  },
  {
   "cell_type": "code",
   "execution_count": 62,
   "id": "1a2eb08c-f51c-4329-8ee2-c4d8a359134f",
   "metadata": {},
   "outputs": [
    {
     "name": "stdout",
     "output_type": "stream",
     "text": [
      "2210\n"
     ]
    }
   ],
   "source": [
    "print(license_plate[4:])"
   ]
  },
  {
   "cell_type": "markdown",
   "id": "e11bf1de-3141-41e7-8ced-b37326e3af61",
   "metadata": {},
   "source": [
    "# 023 문자열 인덱싱\n",
    "아래의 문자열에서 '홀' 만 출력하세요."
   ]
  },
  {
   "cell_type": "code",
   "execution_count": 175,
   "id": "36e199b2-58e8-465c-9cd5-da86c446750a",
   "metadata": {},
   "outputs": [],
   "source": [
    "string1 = \"홀짝홀짝홀짝\""
   ]
  },
  {
   "cell_type": "code",
   "execution_count": 176,
   "id": "fb88aa96-2b99-4e88-bb77-0bcaaf2f0380",
   "metadata": {},
   "outputs": [
    {
     "name": "stdout",
     "output_type": "stream",
     "text": [
      "홀 홀 홀\n",
      "홀홀홀\n"
     ]
    }
   ],
   "source": [
    "print(string1[0],string1[2],string1[4])\n",
    "print(string1[::2])"
   ]
  },
  {
   "cell_type": "markdown",
   "id": "cd961d56-5823-4f12-b58b-1e11c60a5f85",
   "metadata": {},
   "source": [
    "# 024 문자열 슬라이싱\n",
    "문자열을 거꾸로 뒤집어 출력하세요."
   ]
  },
  {
   "cell_type": "code",
   "execution_count": 66,
   "id": "023ffad6-3b5b-46f3-b3cc-24064bd7a13b",
   "metadata": {},
   "outputs": [],
   "source": [
    "string = \"PYTHON\""
   ]
  },
  {
   "cell_type": "code",
   "execution_count": 71,
   "id": "38fece60-eab9-487a-97e6-52350938cd67",
   "metadata": {},
   "outputs": [
    {
     "name": "stdout",
     "output_type": "stream",
     "text": [
      "NOHTYP\n"
     ]
    }
   ],
   "source": [
    "print(string[::-1])"
   ]
  },
  {
   "cell_type": "markdown",
   "id": "2502f8e1-6ac2-47cd-ac7d-893fe0da5258",
   "metadata": {},
   "source": [
    "# 025 문자열 치환\n",
    "아래의 전화번호에서 하이푼 ('-')을 제거하고 출력하세요."
   ]
  },
  {
   "cell_type": "code",
   "execution_count": 72,
   "id": "e25c0f57-f307-4a43-9721-4e5c985bfcd7",
   "metadata": {},
   "outputs": [],
   "source": [
    "phone_number = \"010-1111-2222\""
   ]
  },
  {
   "cell_type": "code",
   "execution_count": 73,
   "id": "a807212a-5031-4e61-820e-431772bfd7c2",
   "metadata": {},
   "outputs": [
    {
     "name": "stdout",
     "output_type": "stream",
     "text": [
      "010 1111 2222\n"
     ]
    }
   ],
   "source": [
    "print(phone_number.replace(\"-\",\" \"))"
   ]
  },
  {
   "cell_type": "markdown",
   "id": "20a1d460-da08-42bc-b898-40822d9b9c06",
   "metadata": {},
   "source": [
    "# 026 문자열 다루기\n",
    "25번 문제의 전화번호를 아래와 같이 모두 붙여 출력하세요<br>\n",
    "01011112222"
   ]
  },
  {
   "cell_type": "code",
   "execution_count": 74,
   "id": "ce6a9c41-d491-4b5d-b1b9-ad77f745c653",
   "metadata": {},
   "outputs": [
    {
     "name": "stdout",
     "output_type": "stream",
     "text": [
      "01011112222\n"
     ]
    }
   ],
   "source": [
    "print(phone_number.replace(\"-\",\"\"))"
   ]
  },
  {
   "cell_type": "markdown",
   "id": "1b61016b-ea06-4f01-b6ef-88c1d32f75d2",
   "metadata": {},
   "source": [
    "# 027 문자열 다루기\n",
    "url 에 저장된 웹 페이지 주소에서 도메인을 출력하세요."
   ]
  },
  {
   "cell_type": "code",
   "execution_count": 75,
   "id": "c49dd535-4468-4c7f-90de-d4ed022272e1",
   "metadata": {},
   "outputs": [],
   "source": [
    "url = \"http://sharebook.kr\""
   ]
  },
  {
   "cell_type": "code",
   "execution_count": 84,
   "id": "493ae2a7-6665-489d-ab9e-c9dca7f9b1d2",
   "metadata": {},
   "outputs": [
    {
     "name": "stdout",
     "output_type": "stream",
     "text": [
      "kr\n"
     ]
    }
   ],
   "source": [
    "domain = url.split(\".\")[-1]\n",
    "print(domain)"
   ]
  },
  {
   "cell_type": "markdown",
   "id": "6dd1bc13-d21d-42a4-b11c-59cb290ed279",
   "metadata": {},
   "source": [
    "# 028 문자열은 immutable\n",
    "아래 코드의 실행 결과를 예상해보세요."
   ]
  },
  {
   "cell_type": "code",
   "execution_count": 177,
   "id": "a68d93ff-4c5c-41bf-ba03-ad387c977034",
   "metadata": {},
   "outputs": [
    {
     "ename": "TypeError",
     "evalue": "'str' object does not support item assignment",
     "output_type": "error",
     "traceback": [
      "\u001b[1;31m---------------------------------------------------------------------------\u001b[0m",
      "\u001b[1;31mTypeError\u001b[0m                                 Traceback (most recent call last)",
      "Cell \u001b[1;32mIn[177], line 2\u001b[0m\n\u001b[0;32m      1\u001b[0m lang \u001b[38;5;241m=\u001b[39m \u001b[38;5;124m'\u001b[39m\u001b[38;5;124mpython\u001b[39m\u001b[38;5;124m'\u001b[39m\n\u001b[1;32m----> 2\u001b[0m lang[\u001b[38;5;241m0\u001b[39m] \u001b[38;5;241m=\u001b[39m \u001b[38;5;124m'\u001b[39m\u001b[38;5;124mP\u001b[39m\u001b[38;5;124m'\u001b[39m\n\u001b[0;32m      3\u001b[0m \u001b[38;5;28mprint\u001b[39m(lang)\n",
      "\u001b[1;31mTypeError\u001b[0m: 'str' object does not support item assignment"
     ]
    }
   ],
   "source": [
    "lang = 'python'\n",
    "lang[0] = 'P'\n",
    "print(lang)"
   ]
  },
  {
   "cell_type": "markdown",
   "id": "04d3ec31-6661-41de-8832-d5ea626c0cce",
   "metadata": {},
   "source": [
    ">>문자열을 변경이 안되므로 에러가 난다"
   ]
  },
  {
   "cell_type": "markdown",
   "id": "35f4673e-70a4-49d7-8618-1cf393666f02",
   "metadata": {},
   "source": [
    "# 029 replace 메서드\n",
    "아래 문자열에서 소문자 'a'를 대문자 'A'로 변경하세요."
   ]
  },
  {
   "cell_type": "code",
   "execution_count": 86,
   "id": "b2dcf5d5-5e67-43fb-a327-412fb8af44f2",
   "metadata": {},
   "outputs": [],
   "source": [
    "string = 'abcdfe2a354a32a'"
   ]
  },
  {
   "cell_type": "code",
   "execution_count": 90,
   "id": "f321d4d7-fc1b-4a48-a5bf-d1352cfb368e",
   "metadata": {},
   "outputs": [
    {
     "name": "stdout",
     "output_type": "stream",
     "text": [
      "Abcdfe2A354A32A\n"
     ]
    }
   ],
   "source": [
    "print(string.replace(\"a\",\"A\"))"
   ]
  },
  {
   "cell_type": "markdown",
   "id": "40d1b5f3-5d2f-4979-abeb-dd47b163fdd4",
   "metadata": {},
   "source": [
    "# 030 replace 메서드\n",
    "아래 코드의 실행 결과를 예상해보세요."
   ]
  },
  {
   "cell_type": "code",
   "execution_count": null,
   "id": "e399e897-3096-4a18-8d9c-7f8cba0dcfe1",
   "metadata": {},
   "outputs": [],
   "source": [
    ">> string = 'abcd'\r\n",
    ">> string.replace('b', 'B')\r\n",
    ">> print(string)"
   ]
  },
  {
   "cell_type": "markdown",
   "id": "6ebfe6a0-4625-45f3-ad59-b6100140eea0",
   "metadata": {},
   "source": [
    "abcd<br>\n",
    "문자열은 변경 불가능하다"
   ]
  },
  {
   "cell_type": "markdown",
   "id": "eb04877e-0ae7-4b7c-9337-e8eda6c38a88",
   "metadata": {},
   "source": [
    "# 031 문자열 합치기\n",
    "아래 코드의 실행 결과를 예상해보세요."
   ]
  },
  {
   "cell_type": "code",
   "execution_count": 92,
   "id": "8c5623d8-5888-405e-9ce1-6cf876c741bc",
   "metadata": {},
   "outputs": [
    {
     "name": "stdout",
     "output_type": "stream",
     "text": [
      "34\n"
     ]
    }
   ],
   "source": [
    "a = \"3\"\n",
    "b = \"4\"\n",
    "print(a + b)"
   ]
  },
  {
   "cell_type": "markdown",
   "id": "2f6e386d-c10b-4e7e-84c4-cd7cfe85ef44",
   "metadata": {},
   "source": [
    "문자열끼리 더할경우 그대로 문자 그대로 더해서 출력된다"
   ]
  },
  {
   "cell_type": "markdown",
   "id": "7d3053e5-3dbe-440d-82a4-29909e76ee9f",
   "metadata": {},
   "source": [
    "# 032 문자열 곱하기\n",
    "아래 코드의 실행 결과를 예상해보세요."
   ]
  },
  {
   "cell_type": "code",
   "execution_count": 93,
   "id": "89f376fa-fa99-4fc2-9a16-d78c9d528826",
   "metadata": {},
   "outputs": [
    {
     "name": "stdout",
     "output_type": "stream",
     "text": [
      "HiHiHi\n"
     ]
    }
   ],
   "source": [
    " print(\"Hi\" * 3)"
   ]
  },
  {
   "cell_type": "markdown",
   "id": "ae37f54c-7b0b-4e9c-8414-dda6676f89bd",
   "metadata": {},
   "source": [
    "문자열을 곱할경우 해당 문자열이 곲한 값 만큼 반복되서 출력된다"
   ]
  },
  {
   "cell_type": "markdown",
   "id": "7c64d3fa-6272-47c9-8d9a-ee7cff585f58",
   "metadata": {},
   "source": [
    "# 033 문자열 곱하기\n",
    "화면에 '-'를 80개 출력하세요."
   ]
  },
  {
   "cell_type": "code",
   "execution_count": 94,
   "id": "3ed2aae7-035a-4d17-abd7-55cef2970c80",
   "metadata": {},
   "outputs": [
    {
     "name": "stdout",
     "output_type": "stream",
     "text": [
      "--------------------------------------------------------------------------------\n"
     ]
    }
   ],
   "source": [
    "print(\"-\"*80)"
   ]
  },
  {
   "cell_type": "markdown",
   "id": "5f01d8f4-e50b-4280-96ca-8e4581697284",
   "metadata": {},
   "source": [
    "# 034 문자열 곱하기\n",
    "변수에 다음과 같은 문자열이 바인딩되어 있습니다."
   ]
  },
  {
   "cell_type": "code",
   "execution_count": 95,
   "id": "33598859-66a9-4b23-82a4-3e729a053279",
   "metadata": {},
   "outputs": [],
   "source": [
    "t1 = 'python'\n",
    "t2 = 'java'"
   ]
  },
  {
   "cell_type": "markdown",
   "id": "3daac339-d035-4d12-b9e0-96ee1aeced45",
   "metadata": {},
   "source": [
    "변수에 문자열 더하기와 문자열 곱하기를 사용해서 아래와 같이 출력해보세요.<br>\n",
    "python java python java python java python java"
   ]
  },
  {
   "cell_type": "code",
   "execution_count": 100,
   "id": "e500d302-a026-469d-a1da-41a88ba58d64",
   "metadata": {},
   "outputs": [
    {
     "name": "stdout",
     "output_type": "stream",
     "text": [
      "python java python java python java python java \n"
     ]
    }
   ],
   "source": [
    "print((t1+\" \"+t2+\" \") * 4)"
   ]
  },
  {
   "cell_type": "markdown",
   "id": "d234eee4-2905-4ec3-8dc1-6727efb3f2cb",
   "metadata": {},
   "source": [
    "# 035 문자열 출력\n",
    "변수에 다음과 같이 문자열과 정수가 바인딩되어 있을 때 % formatting을 사용해서 다음과 같이 출력해보세요"
   ]
  },
  {
   "cell_type": "code",
   "execution_count": 101,
   "id": "5402d8b6-b8e2-4d2a-a6e8-05219fba2432",
   "metadata": {},
   "outputs": [],
   "source": [
    "name1 = \"김민수\" \n",
    "age1 = 10\n",
    "name2 = \"이철희\"\n",
    "age2 = 13"
   ]
  },
  {
   "cell_type": "markdown",
   "id": "0438e3ee-599e-41eb-a559-9640d6e47027",
   "metadata": {},
   "source": [
    "이름: 김민수 나이: 10<br>\n",
    "이름: 이철희 나이: 13"
   ]
  },
  {
   "cell_type": "code",
   "execution_count": 104,
   "id": "f09b9199-d00a-405a-ae7b-b21fbb25eef5",
   "metadata": {},
   "outputs": [
    {
     "name": "stdout",
     "output_type": "stream",
     "text": [
      "이름: 김민수 나이: 10\n",
      "이름: 이철희 나이: 13\n"
     ]
    }
   ],
   "source": [
    "print(\"이름: %s 나이: %s\" %(name1,age1))\n",
    "print(\"이름: %s 나이: %s\" %(name2,age2))"
   ]
  },
  {
   "cell_type": "markdown",
   "id": "ffe2562a-5db8-41c7-89f3-a76be38d9652",
   "metadata": {},
   "source": [
    "# 036 문자열 출력\n",
    "문자열의 format( ) 메서드를 사용해서 035번 문제를 다시 풀어보세요."
   ]
  },
  {
   "cell_type": "code",
   "execution_count": 107,
   "id": "bf300d8d-dfcc-40e2-9a1d-b2a3dd428062",
   "metadata": {},
   "outputs": [
    {
     "name": "stdout",
     "output_type": "stream",
     "text": [
      "이름: 김민수 나이: 10\n",
      "이름: 이철희 나이: 13\n"
     ]
    }
   ],
   "source": [
    "print(\"이름: {} 나이: {}\" .format(name1,age1))\n",
    "print(\"이름: {} 나이: {}\" .format(name2,age2))"
   ]
  },
  {
   "cell_type": "markdown",
   "id": "df34fb0d-3ded-4704-853a-c21386452dcc",
   "metadata": {},
   "source": [
    "# 037 문자열 출력\n",
    "파이썬 3.6부터 지원하는 f-string을 사용해서 035번 문제를 다시 풀어보세요."
   ]
  },
  {
   "cell_type": "code",
   "execution_count": 108,
   "id": "bea5f837-bb17-476a-b1eb-72a8021bdc67",
   "metadata": {},
   "outputs": [
    {
     "name": "stdout",
     "output_type": "stream",
     "text": [
      "이름: 김민수 나이: 10\n",
      "이름: 이철희 나이: 13\n"
     ]
    }
   ],
   "source": [
    "print(f\"이름: {name1} 나이: {age1}\")\n",
    "print(f\"이름: {name2} 나이: {age2}\")"
   ]
  },
  {
   "cell_type": "markdown",
   "id": "5ede6622-3385-404f-9845-982dcd54ccd7",
   "metadata": {},
   "source": [
    "# 038 컴마 제거하기 \n",
    "삼성전자의 상장주식수가 다음과 같습니다. 컴마를 제거한 후 이를 정수 타입으로 변환해보세요."
   ]
  },
  {
   "cell_type": "code",
   "execution_count": 124,
   "id": "54eb1751-b43d-451d-95e8-531b7044e520",
   "metadata": {},
   "outputs": [],
   "source": [
    "상장주식수 = \"5,969,782,550\""
   ]
  },
  {
   "cell_type": "code",
   "execution_count": 125,
   "id": "1bb0b1d1-4b64-4a45-bdee-1420be38563f",
   "metadata": {},
   "outputs": [
    {
     "name": "stdout",
     "output_type": "stream",
     "text": [
      "<class 'int'>\n"
     ]
    }
   ],
   "source": [
    "상장주식수 = 상장주식수.replace(\",\",\"\")\n",
    "상장주식수 = int(상장주식수)\n",
    "print(type(상장주식수))"
   ]
  },
  {
   "cell_type": "markdown",
   "id": "1feb4e5e-e4f4-4fa0-b2fd-a3f2f415b786",
   "metadata": {},
   "source": [
    "# 039 문자열 슬라이싱\n",
    "다음과 같은 문자열에서 '2020/03'만 출력하세요."
   ]
  },
  {
   "cell_type": "code",
   "execution_count": 126,
   "id": "919a3e46-50f1-445d-ba37-af165ce11d34",
   "metadata": {},
   "outputs": [],
   "source": [
    "분기 = \"2020/03(E) (IFRS연결)\""
   ]
  },
  {
   "cell_type": "code",
   "execution_count": 127,
   "id": "19af8a22-324a-4bc9-868b-1ae3356bdfef",
   "metadata": {},
   "outputs": [
    {
     "name": "stdout",
     "output_type": "stream",
     "text": [
      "2020/03\n"
     ]
    }
   ],
   "source": [
    "print(분기[0:7])"
   ]
  },
  {
   "cell_type": "markdown",
   "id": "9e18d317-8294-4670-b651-875c2702b080",
   "metadata": {},
   "source": [
    "# 040 strip 메서드\n",
    "문자열의 좌우의 공백이 있을 때 이를 제거해보세요."
   ]
  },
  {
   "cell_type": "code",
   "execution_count": 128,
   "id": "b222c4e7-d018-4a27-a3c1-7154f99a9932",
   "metadata": {},
   "outputs": [],
   "source": [
    "data = \"   삼성전자    \""
   ]
  },
  {
   "cell_type": "code",
   "execution_count": 130,
   "id": "a183a645-5c0e-4190-a171-e63b86ddff78",
   "metadata": {},
   "outputs": [
    {
     "data": {
      "text/plain": [
       "'삼성전자'"
      ]
     },
     "execution_count": 130,
     "metadata": {},
     "output_type": "execute_result"
    }
   ],
   "source": [
    "data.strip()"
   ]
  },
  {
   "cell_type": "markdown",
   "id": "a4b2bd19-449c-4183-ae3b-c05acf31cc4d",
   "metadata": {},
   "source": [
    "# 041 upper 메서드\n",
    "다음과 같은 문자열이 있을 때 이를 대문자 BTC_KRW로 변경하세요."
   ]
  },
  {
   "cell_type": "code",
   "execution_count": 131,
   "id": "9369d212-3baf-4dab-948a-7d2fd859d499",
   "metadata": {},
   "outputs": [],
   "source": [
    "ticker = \"btc_krw\""
   ]
  },
  {
   "cell_type": "code",
   "execution_count": 134,
   "id": "1950f138-e612-4761-89fb-e305d1c7254d",
   "metadata": {},
   "outputs": [
    {
     "data": {
      "text/plain": [
       "'BTC_KRW'"
      ]
     },
     "execution_count": 134,
     "metadata": {},
     "output_type": "execute_result"
    }
   ],
   "source": [
    "ticker.upper()"
   ]
  },
  {
   "cell_type": "markdown",
   "id": "62fbbd3b-402c-49bd-881e-c4494f3805ad",
   "metadata": {},
   "source": [
    "# 042 lower 메서드\r\n",
    "다음과 같은 문자열이 있을 때 이를 소문자 btc_krw로 변경하세요."
   ]
  },
  {
   "cell_type": "code",
   "execution_count": 135,
   "id": "c9621d9a-2428-457b-a491-a6d39cf14a9b",
   "metadata": {},
   "outputs": [],
   "source": [
    "ticker = \"BTC_KRW\""
   ]
  },
  {
   "cell_type": "code",
   "execution_count": 136,
   "id": "83fafd61-ae58-40cc-aee3-86a12d59563e",
   "metadata": {},
   "outputs": [
    {
     "data": {
      "text/plain": [
       "'btc_krw'"
      ]
     },
     "execution_count": 136,
     "metadata": {},
     "output_type": "execute_result"
    }
   ],
   "source": [
    "ticker.lower()"
   ]
  },
  {
   "cell_type": "markdown",
   "id": "9ca73eb1-408c-4cd7-a7df-598dc9e7235b",
   "metadata": {},
   "source": [
    "# 043 capitalize 메서드\r\n",
    "문자열 'hello'가 있을 때 이를 'Hello'로 변경해보세요."
   ]
  },
  {
   "cell_type": "code",
   "execution_count": 137,
   "id": "28281630-b5cf-437c-ad38-56f3a7fe33f6",
   "metadata": {},
   "outputs": [],
   "source": [
    "str = \"hello\""
   ]
  },
  {
   "cell_type": "code",
   "execution_count": 139,
   "id": "405cb418-fe44-4b4c-98a5-f614392c09d5",
   "metadata": {},
   "outputs": [
    {
     "data": {
      "text/plain": [
       "'Hello'"
      ]
     },
     "execution_count": 139,
     "metadata": {},
     "output_type": "execute_result"
    }
   ],
   "source": [
    "str.capitalize()"
   ]
  },
  {
   "cell_type": "markdown",
   "id": "3110afa1-8cd8-443a-b2e9-a1de2868b98c",
   "metadata": {},
   "source": [
    "# 044 endswith 메서드\r\n",
    "파일 이름이 문자열로 저장되어 있을 때 endswith 메서드를 사용해서 파일 이름이 'xlsx'로 끝나는지 확인해보세요."
   ]
  },
  {
   "cell_type": "code",
   "execution_count": 140,
   "id": "40df1f36-df8f-4e2b-a8e8-1956e4abe0a7",
   "metadata": {},
   "outputs": [],
   "source": [
    "file_name = \"보고서.xlsx\""
   ]
  },
  {
   "cell_type": "code",
   "execution_count": 144,
   "id": "035fd6f6-1432-4bd2-bd69-3941dbc366d0",
   "metadata": {},
   "outputs": [
    {
     "data": {
      "text/plain": [
       "True"
      ]
     },
     "execution_count": 144,
     "metadata": {},
     "output_type": "execute_result"
    }
   ],
   "source": [
    "file_name.endswith(\"xlsx\")"
   ]
  },
  {
   "cell_type": "markdown",
   "id": "86d8ecef-5cef-4dd1-8046-a979886b8b5e",
   "metadata": {},
   "source": [
    "# 045 endswith 메서드\r\n",
    "파일 이름이 문자열로 저장되어 있을 때 endswith 메서드를 사용해서 파일 이름이 'xlsx' 또는 'xls'로 끝나는지 확인해보세요."
   ]
  },
  {
   "cell_type": "code",
   "execution_count": 145,
   "id": "cd68b866-8a8d-4b6d-ade9-afbd2d10bb03",
   "metadata": {},
   "outputs": [],
   "source": [
    "file_name = \"보고서.xlsx\""
   ]
  },
  {
   "cell_type": "code",
   "execution_count": 178,
   "id": "dcc8f89c-79ef-469e-bc9b-1caf7911149d",
   "metadata": {},
   "outputs": [
    {
     "data": {
      "text/plain": [
       "True"
      ]
     },
     "execution_count": 178,
     "metadata": {},
     "output_type": "execute_result"
    }
   ],
   "source": [
    "file_name.endswith(\"xls\") or file_name.endswith(\"xlsx\")"
   ]
  },
  {
   "cell_type": "markdown",
   "id": "ff4da11e-43ef-4379-8ce1-9323d931e9bb",
   "metadata": {},
   "source": [
    "# 046 startswith 메서드\r\n",
    "파일 이름이 문자열로 저장되어 있을 때 startswith 메서드를 사용해서 파일 이름이 '2020'로 시작하는지 확인해보세요."
   ]
  },
  {
   "cell_type": "code",
   "execution_count": 149,
   "id": "590ddb20-7c75-4287-af95-97c03ee19815",
   "metadata": {},
   "outputs": [],
   "source": [
    "a = \"hello world\""
   ]
  },
  {
   "cell_type": "code",
   "execution_count": 150,
   "id": "b3397799-7964-470a-a4c0-a6584ee8c9ae",
   "metadata": {},
   "outputs": [
    {
     "data": {
      "text/plain": [
       "False"
      ]
     },
     "execution_count": 150,
     "metadata": {},
     "output_type": "execute_result"
    }
   ],
   "source": [
    "a.startswith(\"2020\")"
   ]
  },
  {
   "cell_type": "markdown",
   "id": "9a161262-2bb7-4d90-ba36-d6a1a770ad2a",
   "metadata": {},
   "source": [
    "# 047 split 메서드\r\n",
    "다음과 같은 문자열이 있을 때 공백을 기준으로 문자열을 나눠보세요."
   ]
  },
  {
   "cell_type": "code",
   "execution_count": 151,
   "id": "27932f83-1e97-47d2-87da-74931af5601b",
   "metadata": {},
   "outputs": [],
   "source": [
    "a = \"hello world\""
   ]
  },
  {
   "cell_type": "code",
   "execution_count": 152,
   "id": "1ae4ff27-93d8-4575-9713-e2c49b0d41da",
   "metadata": {},
   "outputs": [
    {
     "data": {
      "text/plain": [
       "['hello', 'world']"
      ]
     },
     "execution_count": 152,
     "metadata": {},
     "output_type": "execute_result"
    }
   ],
   "source": [
    "a.split()"
   ]
  },
  {
   "cell_type": "markdown",
   "id": "bcea6a5c-7efe-48cf-a687-06d9ac2045e4",
   "metadata": {},
   "source": [
    "# 048 split 메서드\n",
    "다음과 같이 문자열이 있을 때 btc와 krw로 나눠보세요."
   ]
  },
  {
   "cell_type": "code",
   "execution_count": 153,
   "id": "e10e2a6a-0e9f-4f88-a922-e3d81b3c8bac",
   "metadata": {},
   "outputs": [],
   "source": [
    "ticker = \"btc_krw\""
   ]
  },
  {
   "cell_type": "code",
   "execution_count": 155,
   "id": "479acec9-1e91-4984-b65c-d01594f880b7",
   "metadata": {},
   "outputs": [
    {
     "data": {
      "text/plain": [
       "['btc', 'krw']"
      ]
     },
     "execution_count": 155,
     "metadata": {},
     "output_type": "execute_result"
    }
   ],
   "source": [
    "ticker.split(\"_\")"
   ]
  },
  {
   "cell_type": "markdown",
   "id": "f72d9531-2fac-40df-81ec-2aa371f2e1f1",
   "metadata": {},
   "source": [
    "# 049 split 메서드\r\n",
    "다음과 같이 날짜를 표현하는 문자열이 있을 때 연도, 월, 일로 나눠보세요."
   ]
  },
  {
   "cell_type": "code",
   "execution_count": 156,
   "id": "548f66ae-acfa-4e56-a00a-57725b7a6465",
   "metadata": {},
   "outputs": [],
   "source": [
    "date = \"2020-05-01\""
   ]
  },
  {
   "cell_type": "code",
   "execution_count": 158,
   "id": "2e1ec201-37a0-4ee7-83a3-6350dd98e560",
   "metadata": {},
   "outputs": [
    {
     "name": "stdout",
     "output_type": "stream",
     "text": [
      "2020 05 01\n"
     ]
    }
   ],
   "source": [
    "연도 = date.split(\"-\")[0]\n",
    "월 = date.split(\"-\")[1]\n",
    "일 = date.split(\"-\")[2]\n",
    "print(연도,월,일)"
   ]
  },
  {
   "cell_type": "markdown",
   "id": "1715c7a6-1a3d-4b92-8daf-3dfa3f479e68",
   "metadata": {},
   "source": [
    "# 050 rstrip 메서드\r\n",
    "문자열의 오른쪽에 공백이 있을 때 이를 제거해보세요."
   ]
  },
  {
   "cell_type": "code",
   "execution_count": 159,
   "id": "0d5f78e9-7e6b-4991-8df4-76563fdff32d",
   "metadata": {},
   "outputs": [],
   "source": [
    "data = \"039490     \""
   ]
  },
  {
   "cell_type": "code",
   "execution_count": 160,
   "id": "504cf1ef-b295-441a-949c-7ff9c23dceb3",
   "metadata": {},
   "outputs": [
    {
     "data": {
      "text/plain": [
       "'039490'"
      ]
     },
     "execution_count": 160,
     "metadata": {},
     "output_type": "execute_result"
    }
   ],
   "source": [
    "data.rstrip()"
   ]
  },
  {
   "cell_type": "markdown",
   "id": "0dce0911-4813-4360-9058-3776f65402eb",
   "metadata": {},
   "source": [
    "# 심화문제\n",
    "1. 다음 경로의 모든 dll 파일들에 대해 확장자를 제외한 순수 파일 이름을 추출<br>\n",
    "\"C:\\\\Windows\\\\System32*.dll\"\n",
    "2. flie_data 딕셔너리에 key는 파일 이름 , value는 path 값을 갖는 아이템 추가\n",
    ">딕셔너리 구조)file_data[key] = value <br>\n",
    "예) file_data[file_name] = path # 여기서 file_name은 1)을 통해 추출된 순수 파일 이름임\n",
    "\"C:\\Windows\\System32*.dll\""
   ]
  },
  {
   "cell_type": "code",
   "execution_count": 171,
   "id": "6dc91b69-b094-44ab-b503-761ae98981d1",
   "metadata": {},
   "outputs": [],
   "source": [
    "from glob import glob #파일 경로를 가져오는 라이브러리\n",
    "file_data ={} #딕셔너리 선언\n",
    "\n",
    "for path in glob(\"C:\\\\Windows\\\\System32*.dll\"):\n",
    "    #file_name = [여기에 알맞은 코드를 작성하여 순수 파일 이름 추출]\n",
    "    file_name_with_ext = path.split(\"\\\\\"[-1])\n",
    "    file_name = file_name_with_ext.split(\".\")[0]\n",
    "    file_data[filename] = path\n",
    "\n",
    "for key int file_data.keys():\n",
    "    print(\"[{}]: {}\".format(key,file_data[key]))"
   ]
  },
  {
   "cell_type": "code",
   "execution_count": null,
   "id": "97e12a90-cd1e-421c-80a2-f1369bb6da2e",
   "metadata": {},
   "outputs": [],
   "source": []
  }
 ],
 "metadata": {
  "kernelspec": {
   "display_name": "Python 3 (ipykernel)",
   "language": "python",
   "name": "python3"
  },
  "language_info": {
   "codemirror_mode": {
    "name": "ipython",
    "version": 3
   },
   "file_extension": ".py",
   "mimetype": "text/x-python",
   "name": "python",
   "nbconvert_exporter": "python",
   "pygments_lexer": "ipython3",
   "version": "3.11.7"
  }
 },
 "nbformat": 4,
 "nbformat_minor": 5
}
