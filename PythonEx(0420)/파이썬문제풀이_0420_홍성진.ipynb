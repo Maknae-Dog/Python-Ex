{
 "cells": [
  {
   "cell_type": "markdown",
   "id": "a9d9e3ad-b69f-4607-88d3-45316a337c59",
   "metadata": {},
   "source": [
    "# 101\n",
    "파이썬에서 True 혹은 False를 갖는 데이터 타입은 무엇인가?"
   ]
  },
  {
   "cell_type": "markdown",
   "id": "270169b1-8cfa-4861-87e0-606c5c0eda6a",
   "metadata": {},
   "source": [
    "bool형"
   ]
  },
  {
   "cell_type": "markdown",
   "id": "7c452621-e36a-4188-b820-b704cb2dfa37",
   "metadata": {},
   "source": [
    "# 102\n",
    "아래 코드의 출력 결과를 예상하라"
   ]
  },
  {
   "cell_type": "code",
   "execution_count": 12,
   "id": "5754641c-83e5-404c-acb3-c9ab7820fc7a",
   "metadata": {},
   "outputs": [
    {
     "name": "stdout",
     "output_type": "stream",
     "text": [
      "False\n"
     ]
    }
   ],
   "source": [
    "print(3 == 5)"
   ]
  },
  {
   "cell_type": "markdown",
   "id": "1c3b4df6-1970-453d-ad52-28ec885d727c",
   "metadata": {},
   "source": [
    "# 103\n",
    "아래 코드의 출력 결과를 예상하라"
   ]
  },
  {
   "cell_type": "code",
   "execution_count": 13,
   "id": "26628b7e-9522-435f-a702-272ce42166fd",
   "metadata": {},
   "outputs": [
    {
     "name": "stdout",
     "output_type": "stream",
     "text": [
      "True\n"
     ]
    }
   ],
   "source": [
    "print(3 < 5)"
   ]
  },
  {
   "cell_type": "markdown",
   "id": "be7c9204-d3c9-4e08-b925-84c78e7f725c",
   "metadata": {},
   "source": [
    "# 104\n",
    "아래 코드의 결과를 예상하라."
   ]
  },
  {
   "cell_type": "code",
   "execution_count": 14,
   "id": "f7b14bb3-293c-4d94-8687-8d3bf131e925",
   "metadata": {},
   "outputs": [
    {
     "name": "stdout",
     "output_type": "stream",
     "text": [
      "True\n"
     ]
    }
   ],
   "source": [
    "x = 4\n",
    "print(1 < x < 5)"
   ]
  },
  {
   "cell_type": "markdown",
   "id": "dc50ba1d-be38-4992-ac99-f1fe6acb531d",
   "metadata": {},
   "source": [
    "# 105\n",
    "아래 코드의 결과를 예상하라."
   ]
  },
  {
   "cell_type": "code",
   "execution_count": 15,
   "id": "9bf1076a-ed2b-4715-a117-8d0f12d2bdc8",
   "metadata": {},
   "outputs": [
    {
     "name": "stdout",
     "output_type": "stream",
     "text": [
      "True\n"
     ]
    }
   ],
   "source": [
    "print ((3 == 3) and (4 != 3))"
   ]
  },
  {
   "cell_type": "markdown",
   "id": "6a7e4edd-9826-4b20-abe7-0a88f8624cbe",
   "metadata": {},
   "source": [
    "# 106\n",
    "아래 코드에서 에러가 발생하는 원인에 대해 설명하라."
   ]
  },
  {
   "cell_type": "code",
   "execution_count": 16,
   "id": "2c6675e6-d7ef-4a44-b886-e980450396a9",
   "metadata": {},
   "outputs": [
    {
     "ename": "SyntaxError",
     "evalue": "expression cannot contain assignment, perhaps you meant \"==\"? (3612698823.py, line 1)",
     "output_type": "error",
     "traceback": [
      "\u001b[1;36m  Cell \u001b[1;32mIn[16], line 1\u001b[1;36m\u001b[0m\n\u001b[1;33m    print(3 => 4)\u001b[0m\n\u001b[1;37m          ^\u001b[0m\n\u001b[1;31mSyntaxError\u001b[0m\u001b[1;31m:\u001b[0m expression cannot contain assignment, perhaps you meant \"==\"?\n"
     ]
    }
   ],
   "source": [
    "print(3 => 4)"
   ]
  },
  {
   "cell_type": "markdown",
   "id": "0f3c51fd-57cc-462b-99aa-13dcc4d9b7d3",
   "metadata": {},
   "source": [
    "=>는 지원하지 않는 연산자이다"
   ]
  },
  {
   "cell_type": "markdown",
   "id": "6e272229-dc31-4284-9c31-fd3ecf60cd6e",
   "metadata": {},
   "source": [
    "# 107\n",
    "아래 코드의 출력 결과를 예상하라"
   ]
  },
  {
   "cell_type": "code",
   "execution_count": 18,
   "id": "2ce84531-d323-4b78-91be-c9ef5cad883c",
   "metadata": {},
   "outputs": [],
   "source": [
    "if 4 < 3:\n",
    "    print(\"Hello World\")"
   ]
  },
  {
   "cell_type": "markdown",
   "id": "c1132225-63bc-40ab-a9c6-5fbae8180f02",
   "metadata": {},
   "source": [
    "출력 x"
   ]
  },
  {
   "cell_type": "markdown",
   "id": "77a79699-775f-426b-910c-1960ef2ced8b",
   "metadata": {},
   "source": [
    "# 108\n",
    "아래 코드의 출력 결과를 예상하라"
   ]
  },
  {
   "cell_type": "code",
   "execution_count": 19,
   "id": "5814eb9b-8450-4f42-aca9-5b35dd46823c",
   "metadata": {},
   "outputs": [
    {
     "name": "stdout",
     "output_type": "stream",
     "text": [
      "Hi, there.\n"
     ]
    }
   ],
   "source": [
    "if 4 < 3:\n",
    "    print(\"Hello World.\")\n",
    "else:\n",
    "    print(\"Hi, there.\")"
   ]
  },
  {
   "cell_type": "markdown",
   "id": "fe27885b-5b26-4983-bd47-f113960ca592",
   "metadata": {},
   "source": [
    "# 109\n",
    "아래 코드의 출력 결과를 예상하라"
   ]
  },
  {
   "cell_type": "code",
   "execution_count": 20,
   "id": "54083869-3f2c-46a4-bb25-9907e1400ba7",
   "metadata": {},
   "outputs": [
    {
     "name": "stdout",
     "output_type": "stream",
     "text": [
      "1\n",
      "2\n",
      "4\n"
     ]
    }
   ],
   "source": [
    "if True :\n",
    "    print (\"1\")\n",
    "    print (\"2\")\n",
    "else :\n",
    "    print(\"3\")\n",
    "print(\"4\")"
   ]
  },
  {
   "cell_type": "markdown",
   "id": "e63af0b9-bbb8-4450-838c-eb785d377df3",
   "metadata": {},
   "source": [
    "# 110\n",
    "아래 코드의 출력 결과를 예상하라"
   ]
  },
  {
   "cell_type": "code",
   "execution_count": 21,
   "id": "e68b9315-7b10-45c9-a69e-81aa1b8f2835",
   "metadata": {},
   "outputs": [
    {
     "name": "stdout",
     "output_type": "stream",
     "text": [
      "3\n",
      "5\n"
     ]
    }
   ],
   "source": [
    "if True :\n",
    "    if False:\n",
    "        print(\"1\")\n",
    "        print(\"2\")\n",
    "    else:\n",
    "        print(\"3\")\n",
    "else :\n",
    "    print(\"4\")\n",
    "print(\"5\")"
   ]
  },
  {
   "cell_type": "markdown",
   "id": "d10a383c-ff2b-403a-8fb4-45ed1afbbe31",
   "metadata": {},
   "source": [
    "# 111\n",
    "사용자로부터 입력받은 문자열을 두 번 출력하라. 아래는 사용자가 \"안녕하세요\"를 입력한 경우의 출력 결과이다."
   ]
  },
  {
   "cell_type": "markdown",
   "id": "f05af5a8-1fc4-4a13-9490-5dbc1c5496ee",
   "metadata": {},
   "source": [
    ">> 안녕하세요\n",
    "안녕하세요안녕하세요"
   ]
  },
  {
   "cell_type": "code",
   "execution_count": 25,
   "id": "a1a5c26d-7635-44c5-acf9-0d76f643245e",
   "metadata": {},
   "outputs": [
    {
     "name": "stdin",
     "output_type": "stream",
     "text": [
      "입력: 안녕하세요\n"
     ]
    },
    {
     "name": "stdout",
     "output_type": "stream",
     "text": [
      "안녕하세요안녕하세요\n"
     ]
    }
   ],
   "source": [
    "a = input('입력:')\n",
    "print(a*2)"
   ]
  },
  {
   "cell_type": "markdown",
   "id": "a2353cb7-6e5f-4b6c-a07e-ae3bbab07fbd",
   "metadata": {},
   "source": [
    "# 112\n",
    "사용자로부터 하나의 숫자를 입력받고, 입력 받은 숫자에 10을 더해 출력하라."
   ]
  },
  {
   "cell_type": "markdown",
   "id": "a7c1a604-495c-4321-a1ce-ca02df78ba1c",
   "metadata": {},
   "source": [
    ">> 숫자를 입력하세요: 30\n",
    "40"
   ]
  },
  {
   "cell_type": "code",
   "execution_count": 27,
   "id": "467ee4c2-dd1a-42c5-becb-6bbedb3848bc",
   "metadata": {},
   "outputs": [
    {
     "name": "stdin",
     "output_type": "stream",
     "text": [
      "숫자를 입력하세요: 30\n"
     ]
    },
    {
     "name": "stdout",
     "output_type": "stream",
     "text": [
      "40\n"
     ]
    }
   ],
   "source": [
    "a = input('숫자를 입력하세요:')\n",
    "print(int(a)+10)"
   ]
  },
  {
   "cell_type": "markdown",
   "id": "f5025963-7658-4597-a536-7c7cedda00ff",
   "metadata": {},
   "source": [
    "# 113\n",
    "사용자로부터 하나의 숫자를 입력 받고 짝수/홀수를 판별하라."
   ]
  },
  {
   "cell_type": "code",
   "execution_count": 30,
   "id": "b228cff9-5b54-4b06-acb7-4606434b61a8",
   "metadata": {},
   "outputs": [
    {
     "name": "stdin",
     "output_type": "stream",
     "text": [
      "숫자를 입력하세요: 23\n"
     ]
    },
    {
     "name": "stdout",
     "output_type": "stream",
     "text": [
      "홀수\n"
     ]
    }
   ],
   "source": [
    "a = input('숫자를 입력하세요:')\n",
    "if(int(a)%2==0):\n",
    "     print(\"짝수\")\n",
    "else:\n",
    "    print(\"홀수\")"
   ]
  },
  {
   "cell_type": "markdown",
   "id": "015ac0ab-3a58-44f5-ae88-612f863d92c9",
   "metadata": {},
   "source": [
    "# 114\n",
    "사용자로부터 값을 입력받은 후 해당 값에 20을 더한 값을 출력하라. 단 사용자가 입력한 값과 20을 더한 계산 값이 255를 초과하는 경우 255를 출력해야 한다."
   ]
  },
  {
   "cell_type": "code",
   "execution_count": 32,
   "id": "5f78b782-cade-416b-95f7-df7b0bf4a262",
   "metadata": {},
   "outputs": [
    {
     "name": "stdin",
     "output_type": "stream",
     "text": [
      "숫자를 입력하세요: 230\n"
     ]
    },
    {
     "name": "stdout",
     "output_type": "stream",
     "text": [
      "230\n"
     ]
    }
   ],
   "source": [
    "a = input('숫자를 입력하세요:')\n",
    "if int(a)+20>255:\n",
    "    print(255)\n",
    "else:\n",
    "    print(a)"
   ]
  },
  {
   "cell_type": "code",
   "execution_count": 33,
   "id": "b8fc6aa5-185d-4300-a57e-1fde36430e98",
   "metadata": {},
   "outputs": [
    {
     "name": "stdin",
     "output_type": "stream",
     "text": [
      "숫자를 입력하세요: 250\n"
     ]
    },
    {
     "name": "stdout",
     "output_type": "stream",
     "text": [
      "255\n"
     ]
    }
   ],
   "source": [
    "a = input('숫자를 입력하세요:')\n",
    "if int(a)+20>255:\n",
    "    print(255)\n",
    "else:\n",
    "    print(a)"
   ]
  },
  {
   "cell_type": "markdown",
   "id": "370f5058-7f0f-4ffe-ad0d-51e9f2660f1e",
   "metadata": {},
   "source": [
    "# 115\n",
    "사용자로부터 하나의 값을 입력받은 후 해당 값에 20을 뺀 값을 출력하라.<br>\n",
    "단 출력 값의 범위는 0~255이다. 예를 들어 결괏값이 0보다 작은 값이되는 경우 0을 출력하고 255보다 큰 값이 되는 경우 255를 출력해야 한다."
   ]
  },
  {
   "cell_type": "code",
   "execution_count": 35,
   "id": "6dfd32bf-7153-488f-abba-8d4d532560fd",
   "metadata": {},
   "outputs": [
    {
     "name": "stdin",
     "output_type": "stream",
     "text": [
      "숫자를 입력하세요: 40\n"
     ]
    },
    {
     "name": "stdout",
     "output_type": "stream",
     "text": [
      "20\n"
     ]
    }
   ],
   "source": [
    "a = input('숫자를 입력하세요:')\n",
    "if int(a)-20>255:\n",
    "    print(255)\n",
    "elif int(a)-20<0:\n",
    "    print(0)\n",
    "else:\n",
    "    print(int(a)-20)"
   ]
  },
  {
   "cell_type": "code",
   "execution_count": 37,
   "id": "0e09686f-7bbf-40a3-9723-ee021f5ecc58",
   "metadata": {},
   "outputs": [
    {
     "name": "stdin",
     "output_type": "stream",
     "text": [
      "숫자를 입력하세요: 280\n"
     ]
    },
    {
     "name": "stdout",
     "output_type": "stream",
     "text": [
      "255\n"
     ]
    }
   ],
   "source": [
    "a = input('숫자를 입력하세요:')\n",
    "if int(a)-20>255:\n",
    "    print(255)\n",
    "elif int(a)-20<0:\n",
    "    print(0)\n",
    "else:\n",
    "    print(int(a)-20)"
   ]
  },
  {
   "cell_type": "code",
   "execution_count": 38,
   "id": "6ed152e8-ce2a-4f2d-8c38-5f2561c0bed3",
   "metadata": {},
   "outputs": [
    {
     "name": "stdin",
     "output_type": "stream",
     "text": [
      "숫자를 입력하세요: 0\n"
     ]
    },
    {
     "name": "stdout",
     "output_type": "stream",
     "text": [
      "0\n"
     ]
    }
   ],
   "source": [
    "a = input('숫자를 입력하세요:')\n",
    "if int(a)-20>255:\n",
    "    print(255)\n",
    "elif int(a)-20<0:\n",
    "    print(0)\n",
    "else:\n",
    "    print(int(a)-20)"
   ]
  },
  {
   "cell_type": "markdown",
   "id": "8c535b8e-6795-4a21-95fe-9f96d4ea7cf4",
   "metadata": {},
   "source": [
    "# 116\n",
    "사용자로부터 입력 받은 시간이 정각인지 판별하라."
   ]
  },
  {
   "cell_type": "code",
   "execution_count": 42,
   "id": "e8c7e533-860e-4536-bc61-ca3c51182b54",
   "metadata": {},
   "outputs": [
    {
     "name": "stdin",
     "output_type": "stream",
     "text": [
      "시간을 입력해주세요: 22:00\n"
     ]
    },
    {
     "name": "stdout",
     "output_type": "stream",
     "text": [
      "정각\n"
     ]
    }
   ],
   "source": [
    "time = input(\"시간을 입력해주세요:\")\n",
    "if(time[-2:]==\"00\"):\n",
    "    print(\"정각\")\n",
    "else:\n",
    "    print(\"정각이 아님\")"
   ]
  },
  {
   "cell_type": "code",
   "execution_count": 43,
   "id": "115c957d-49ad-4d1d-8952-674b16f78fe9",
   "metadata": {},
   "outputs": [
    {
     "name": "stdin",
     "output_type": "stream",
     "text": [
      "시간을 입력해주세요: 21:22\n"
     ]
    },
    {
     "name": "stdout",
     "output_type": "stream",
     "text": [
      "정각이 아님\n"
     ]
    }
   ],
   "source": [
    "time = input(\"시간을 입력해주세요:\")\n",
    "if(time[-2:]==\"00\"):\n",
    "    print(\"정각\")\n",
    "else:\n",
    "    print(\"정각이 아님\")"
   ]
  },
  {
   "cell_type": "markdown",
   "id": "f973294c-d345-4a92-9e49-898290e09c91",
   "metadata": {},
   "source": [
    "# 117\n",
    "사용자로 입력받은 단어가 아래 fruit 리스트에 포함되어 있는지를 확인하라. 포함되었다면 \"정답입니다\"를 아닐 경우 \"오답입니다\" 출력하라."
   ]
  },
  {
   "cell_type": "code",
   "execution_count": 45,
   "id": "e66cc591-218f-47c5-92ba-3d896e1c1a52",
   "metadata": {},
   "outputs": [],
   "source": [
    "fruit = [\"사과\", \"포도\", \"홍시\"]"
   ]
  },
  {
   "cell_type": "code",
   "execution_count": 46,
   "id": "a4688023-cf1d-4683-a5f5-7993bbb54b74",
   "metadata": {},
   "outputs": [
    {
     "name": "stdin",
     "output_type": "stream",
     "text": [
      "과일을 입력하세요: 사과\n"
     ]
    },
    {
     "name": "stdout",
     "output_type": "stream",
     "text": [
      "정답입니다\n"
     ]
    }
   ],
   "source": [
    "a = input(\"과일을 입력하세요:\")\n",
    "if(a in fruit):\n",
    "    print(\"정답입니다\")\n",
    "else:\n",
    "    print(\"오답입니다\")"
   ]
  },
  {
   "cell_type": "code",
   "execution_count": 47,
   "id": "ae98b016-68d5-4603-bc32-20557da691f7",
   "metadata": {},
   "outputs": [
    {
     "name": "stdin",
     "output_type": "stream",
     "text": [
      "과일을 입력하세요: 메론\n"
     ]
    },
    {
     "name": "stdout",
     "output_type": "stream",
     "text": [
      "오답입니다\n"
     ]
    }
   ],
   "source": [
    "a = input(\"과일을 입력하세요:\")\n",
    "if(a in fruit):\n",
    "    print(\"정답입니다\")\n",
    "else:\n",
    "    print(\"오답입니다\")"
   ]
  },
  {
   "cell_type": "markdown",
   "id": "1db0b22d-de64-4c81-86c1-ef3f66f67d60",
   "metadata": {},
   "source": [
    "# 118\n",
    "투자 경고 종목 리스트가 있을 때 사용자로부터 종목명을 입력 받은 후 해당 종목이 투자 경고 종목이라면\n",
    "<br>'투자 경고 종목입니다'를 아니면 \"투자 경고 종목이 아닙니다.\"를 출력하는 프로그램을 작성하라."
   ]
  },
  {
   "cell_type": "code",
   "execution_count": 48,
   "id": "a0b64281-caf1-4db8-a037-a2c0075dd55e",
   "metadata": {},
   "outputs": [],
   "source": [
    "warn_investment_list = [\"Microsoft\", \"Google\", \"Naver\", \"Kakao\", \"SAMSUNG\", \"LG\"]"
   ]
  },
  {
   "cell_type": "code",
   "execution_count": 49,
   "id": "b99163bd-d04e-4f07-acf5-a250bef3df9c",
   "metadata": {},
   "outputs": [
    {
     "name": "stdin",
     "output_type": "stream",
     "text": [
      " 종목명을 입력: Microsoft\n"
     ]
    },
    {
     "name": "stdout",
     "output_type": "stream",
     "text": [
      "투자 경고 종목입니다\n"
     ]
    }
   ],
   "source": [
    "a = input(\" 종목명을 입력:\")\n",
    "if a in warn_investment_list:\n",
    "    print(\"투자 경고 종목입니다\")\n",
    "else:\n",
    "    print(\"투자 경고 종목이 아닙니다\")\n",
    "    "
   ]
  },
  {
   "cell_type": "code",
   "execution_count": 50,
   "id": "16b9dba9-4529-4503-a08d-e0ee48c83180",
   "metadata": {},
   "outputs": [
    {
     "name": "stdin",
     "output_type": "stream",
     "text": [
      " 종목명을 입력: skt\n"
     ]
    },
    {
     "name": "stdout",
     "output_type": "stream",
     "text": [
      "투자 경고 종목이 아닙니다\n"
     ]
    }
   ],
   "source": [
    "a = input(\" 종목명을 입력:\")\n",
    "if a in warn_investment_list:\n",
    "    print(\"투자 경고 종목입니다\")\n",
    "else:\n",
    "    print(\"투자 경고 종목이 아닙니다\")\n",
    "    "
   ]
  },
  {
   "cell_type": "markdown",
   "id": "51eaa33c-7f47-4b7d-a24e-5f2b8e6e28eb",
   "metadata": {},
   "source": [
    "# 119\n",
    "아래와 같이 fruit 딕셔너리가 정의되어 있다. 사용자가 입력한 값이 딕셔너리 키 (key) 값에 포함되었다면 \"정답입니다\"를 아닐 경우 \"오답입니다\" 출력하라."
   ]
  },
  {
   "cell_type": "code",
   "execution_count": 51,
   "id": "fef8a7a8-b499-4f12-8487-2880a02aca18",
   "metadata": {},
   "outputs": [],
   "source": [
    "fruit = {\"봄\" : \"딸기\", \"여름\" : \"토마토\", \"가을\" : \"사과\"}"
   ]
  },
  {
   "cell_type": "code",
   "execution_count": 54,
   "id": "a861a820-153c-4c08-9c17-75a1e0d14b5d",
   "metadata": {},
   "outputs": [
    {
     "name": "stdin",
     "output_type": "stream",
     "text": [
      " 계절을 입력하세요: 봄\n"
     ]
    },
    {
     "name": "stdout",
     "output_type": "stream",
     "text": [
      "정답입니다\n"
     ]
    }
   ],
   "source": [
    "a = input(\" 계절을 입력하세요:\")\n",
    "if a in fruit.keys():\n",
    "    print(\"정답입니다\")\n",
    "else:\n",
    "    print(\"오답입니다\")"
   ]
  },
  {
   "cell_type": "code",
   "execution_count": 55,
   "id": "7e657f45-c365-46b2-9b08-4a8c9c9a9dd6",
   "metadata": {},
   "outputs": [
    {
     "name": "stdin",
     "output_type": "stream",
     "text": [
      " 계절을 입력하세요: 겨울\n"
     ]
    },
    {
     "name": "stdout",
     "output_type": "stream",
     "text": [
      "오답입니다\n"
     ]
    }
   ],
   "source": [
    "a = input(\" 계절을 입력하세요:\")\n",
    "if a in fruit.keys():\n",
    "    print(\"정답입니다\")\n",
    "else:\n",
    "    print(\"오답입니다\")"
   ]
  },
  {
   "cell_type": "markdown",
   "id": "9708cf56-4dbb-45d2-9553-ceb107ae41c7",
   "metadata": {},
   "source": [
    "# 120\n",
    "아래와 같이 fruit 딕셔너리가 정의되어 있다. 사용자가 입력한 값이 딕셔너리 값 (value)에 포함되었다면 \"정답입니다\"를 아닐 경우 \"오답입니다\" 출력하라."
   ]
  },
  {
   "cell_type": "code",
   "execution_count": 56,
   "id": "cd6e1c1f-b9dd-4451-942b-c6ab6085cd9b",
   "metadata": {},
   "outputs": [],
   "source": [
    "fruit = {\"봄\" : \"딸기\", \"여름\" : \"토마토\", \"가을\" : \"사과\"}\n"
   ]
  },
  {
   "cell_type": "code",
   "execution_count": 57,
   "id": "1ae620c3-96fc-4b48-b293-ee76ab4cfb6a",
   "metadata": {},
   "outputs": [
    {
     "name": "stdin",
     "output_type": "stream",
     "text": [
      "과일을 입력하세요: 딸기\n"
     ]
    },
    {
     "name": "stdout",
     "output_type": "stream",
     "text": [
      "정답입니다\n"
     ]
    }
   ],
   "source": [
    "a = input(\"과일을 입력하세요:\")\n",
    "if a in fruit.values():\n",
    "    print(\"정답입니다\")\n",
    "else:\n",
    "    print(\"오답입니다\")"
   ]
  },
  {
   "cell_type": "code",
   "execution_count": 58,
   "id": "a0a8a641-1574-43ee-bbd3-f8339179ecb9",
   "metadata": {},
   "outputs": [
    {
     "name": "stdin",
     "output_type": "stream",
     "text": [
      "과일을 입력하세요: 수박\n"
     ]
    },
    {
     "name": "stdout",
     "output_type": "stream",
     "text": [
      "오답입니다\n"
     ]
    }
   ],
   "source": [
    "a = input(\"과일을 입력하세요:\")\n",
    "if a in fruit.values():\n",
    "    print(\"정답입니다\")\n",
    "else:\n",
    "    print(\"오답입니다\")"
   ]
  },
  {
   "cell_type": "markdown",
   "id": "84bf6e97-71f7-4121-b3e6-854fdc1081ea",
   "metadata": {},
   "source": [
    "# 121\n",
    "사용자로부터 문자 한 개를 입력 받고, 소문자일 경우 대문자로, 대문자 일 경우, 소문자로 변경해서 출력하라"
   ]
  },
  {
   "cell_type": "code",
   "execution_count": 69,
   "id": "7a10144b-f4b9-4e16-8e7d-a607492f1c6a",
   "metadata": {},
   "outputs": [
    {
     "name": "stdin",
     "output_type": "stream",
     "text": [
      "알파벳 한개를 입력하세요: b\n"
     ]
    },
    {
     "name": "stdout",
     "output_type": "stream",
     "text": [
      "B\n"
     ]
    }
   ],
   "source": [
    "user_input = input(\"알파벳 한개를 입력하세요:\")\n",
    "if user_input.islower():\n",
    "    print(user_input.upper())\n",
    "elif user_input.isupper():\n",
    "    print(user_input.lower())"
   ]
  },
  {
   "cell_type": "code",
   "execution_count": 70,
   "id": "ab657c6d-3927-4d7e-8f4f-8b0e23414393",
   "metadata": {},
   "outputs": [
    {
     "name": "stdin",
     "output_type": "stream",
     "text": [
      "알파벳 한개를 입력하세요: B\n"
     ]
    },
    {
     "name": "stdout",
     "output_type": "stream",
     "text": [
      "b\n"
     ]
    }
   ],
   "source": [
    "user_input = input(\"알파벳 한개를 입력하세요:\")\n",
    "if user_input.islower():\n",
    "    print(user_input.upper())\n",
    "elif user_input.isupper():\n",
    "    print(user_input.lower())"
   ]
  },
  {
   "cell_type": "markdown",
   "id": "12534ab0-0e0b-4ebd-8e03-c02dd894c4f3",
   "metadata": {},
   "source": [
    "# 122\n",
    "점수 구간에 해당하는 학점이 아래와 같이 정의되어 있다. 사용자로부터 score를 입력받아 학점을 출력하라."
   ]
  },
  {
   "cell_type": "markdown",
   "id": "030ef22d-1d4a-43fb-9c59-133b31fc777c",
   "metadata": {},
   "source": [
    "81-100 = A , 61-80 = B, 41-60 = C, 21-40 = D, 0-20 = E "
   ]
  },
  {
   "cell_type": "code",
   "execution_count": 74,
   "id": "dead2f3e-7a06-4ebc-b43b-f497e04fd3ec",
   "metadata": {},
   "outputs": [
    {
     "name": "stdin",
     "output_type": "stream",
     "text": [
      "점수를 입력하세요: 90\n"
     ]
    },
    {
     "name": "stdout",
     "output_type": "stream",
     "text": [
      "학점:A\n"
     ]
    }
   ],
   "source": [
    "score = input(\"점수를 입력하세요:\")\n",
    "if int(score) > 80:\n",
    "    print(\"학점:A\")\n",
    "elif int(score) > 60:\n",
    "    print(\"학점:B\")\n",
    "elif int(score) > 40:\n",
    "    print(\"학점:C\")\n",
    "elif int(score) > 20:\n",
    "    print(\"학점:D\")\n",
    "else:\n",
    "    print(\"학점:E\")"
   ]
  },
  {
   "cell_type": "code",
   "execution_count": 75,
   "id": "37014953-1ec8-4b33-98e4-bbb627d84864",
   "metadata": {},
   "outputs": [
    {
     "name": "stdin",
     "output_type": "stream",
     "text": [
      "점수를 입력하세요: 70\n"
     ]
    },
    {
     "name": "stdout",
     "output_type": "stream",
     "text": [
      "학점:B\n"
     ]
    }
   ],
   "source": [
    "score = input(\"점수를 입력하세요:\")\n",
    "if int(score) > 80:\n",
    "    print(\"학점:A\")\n",
    "elif int(score) > 60:\n",
    "    print(\"학점:B\")\n",
    "elif int(score) > 40:\n",
    "    print(\"학점:C\")\n",
    "elif int(score) > 20:\n",
    "    print(\"학점:D\")\n",
    "else:\n",
    "    print(\"학점:E\")"
   ]
  },
  {
   "cell_type": "code",
   "execution_count": 76,
   "id": "2d5b16cd-a964-4fa6-b82b-c56fd12ea24c",
   "metadata": {},
   "outputs": [
    {
     "name": "stdin",
     "output_type": "stream",
     "text": [
      "점수를 입력하세요: 50\n"
     ]
    },
    {
     "name": "stdout",
     "output_type": "stream",
     "text": [
      "학점:C\n"
     ]
    }
   ],
   "source": [
    "score = input(\"점수를 입력하세요:\")\n",
    "if int(score) > 80:\n",
    "    print(\"학점:A\")\n",
    "elif int(score) > 60:\n",
    "    print(\"학점:B\")\n",
    "elif int(score) > 40:\n",
    "    print(\"학점:C\")\n",
    "elif int(score) > 20:\n",
    "    print(\"학점:D\")\n",
    "else:\n",
    "    print(\"학점:E\")"
   ]
  },
  {
   "cell_type": "code",
   "execution_count": 77,
   "id": "d02f4d10-9961-4a3b-8d2a-3c6038872a1b",
   "metadata": {},
   "outputs": [
    {
     "name": "stdin",
     "output_type": "stream",
     "text": [
      "점수를 입력하세요: 30\n"
     ]
    },
    {
     "name": "stdout",
     "output_type": "stream",
     "text": [
      "학점:D\n"
     ]
    }
   ],
   "source": [
    "score = input(\"점수를 입력하세요:\")\n",
    "if int(score) > 80:\n",
    "    print(\"학점:A\")\n",
    "elif int(score) > 60:\n",
    "    print(\"학점:B\")\n",
    "elif int(score) > 40:\n",
    "    print(\"학점:C\")\n",
    "elif int(score) > 20:\n",
    "    print(\"학점:D\")\n",
    "else:\n",
    "    print(\"학점:E\")"
   ]
  },
  {
   "cell_type": "code",
   "execution_count": 78,
   "id": "1ad9d31e-2d36-4052-ba5a-f9abc3d8dce6",
   "metadata": {},
   "outputs": [
    {
     "name": "stdin",
     "output_type": "stream",
     "text": [
      "점수를 입력하세요: 10\n"
     ]
    },
    {
     "name": "stdout",
     "output_type": "stream",
     "text": [
      "학점:E\n"
     ]
    }
   ],
   "source": [
    "score = input(\"점수를 입력하세요:\")\n",
    "if int(score) > 80:\n",
    "    print(\"학점:A\")\n",
    "elif int(score) > 60:\n",
    "    print(\"학점:B\")\n",
    "elif int(score) > 40:\n",
    "    print(\"학점:C\")\n",
    "elif int(score) > 20:\n",
    "    print(\"학점:D\")\n",
    "else:\n",
    "    print(\"학점:E\")"
   ]
  },
  {
   "cell_type": "markdown",
   "id": "73648b97-77bb-4113-a3bb-9f0aa50c9e4b",
   "metadata": {},
   "source": [
    "# 123\n",
    "사용자로부터 달러, 엔, 유로, 또는 위안 금액을 입력받은 후 이를 원으로 변환하는 프로그램을 작성하라. \n",
    "<br>각 통화별 환율은 다음과 같다. 사용자는 100 달러, 1000 엔, 13 유로, 100 위안과 같이 금액과 통화명 사이에 공백을 넣어 입력한다고 가정한다."
   ]
  },
  {
   "cell_type": "markdown",
   "id": "b25edb98-e89d-48ef-91d3-712b4a25c6c4",
   "metadata": {},
   "source": [
    "달러 : 1167 , 엔 : 1.96, 유로 : 1268, 위안 : 171"
   ]
  },
  {
   "cell_type": "code",
   "execution_count": 89,
   "id": "fb416aaf-7236-44fe-8b2b-c91f15a35c04",
   "metadata": {},
   "outputs": [
    {
     "name": "stdin",
     "output_type": "stream",
     "text": [
      "금액을 입력하세요: 50 달러\n"
     ]
    },
    {
     "name": "stdout",
     "output_type": "stream",
     "text": [
      "58350.0원\n"
     ]
    }
   ],
   "source": [
    "환율 = {'달러' : 1167, '엔': 1.96 , '유로' : 1268 , '위안': 171}\n",
    "user_input = input(\"금액을 입력하세요:\")\n",
    "a,b = user_input.split(\" \")\n",
    "if b in 환율:\n",
    "    a = float(a)\n",
    "    won = a * 환율[b]\n",
    "\n",
    "print(str(won)+\"원\")\n"
   ]
  },
  {
   "cell_type": "code",
   "execution_count": 90,
   "id": "6e7d648e-5bbe-4d79-805d-41a2e0a950d1",
   "metadata": {},
   "outputs": [
    {
     "name": "stdin",
     "output_type": "stream",
     "text": [
      "금액을 입력하세요: 50 엔\n"
     ]
    },
    {
     "name": "stdout",
     "output_type": "stream",
     "text": [
      "98.0원\n"
     ]
    }
   ],
   "source": [
    "환율 = {'달러' : 1167, '엔': 1.96 , '유로' : 1268 , '위안': 171}\n",
    "user_input = input(\"금액을 입력하세요:\")\n",
    "a,b = user_input.split(\" \")\n",
    "if b in 환율:\n",
    "    a = float(a)\n",
    "    won = a * 환율[b]\n",
    "\n",
    "print(str(won)+\"원\")"
   ]
  },
  {
   "cell_type": "code",
   "execution_count": 91,
   "id": "a7785e00-74e5-4635-bc8b-652624f52bb7",
   "metadata": {},
   "outputs": [
    {
     "name": "stdin",
     "output_type": "stream",
     "text": [
      "금액을 입력하세요: 50 유로\n"
     ]
    },
    {
     "name": "stdout",
     "output_type": "stream",
     "text": [
      "63400.0원\n"
     ]
    }
   ],
   "source": [
    "환율 = {'달러' : 1167, '엔': 1.96 , '유로' : 1268 , '위안': 171}\n",
    "user_input = input(\"금액을 입력하세요:\")\n",
    "a,b = user_input.split(\" \")\n",
    "if b in 환율:\n",
    "    a = float(a)\n",
    "    won = a * 환율[b]\n",
    "\n",
    "print(str(won)+\"원\")"
   ]
  },
  {
   "cell_type": "code",
   "execution_count": 92,
   "id": "b76d125f-f709-4f47-aba2-869e8ecdc889",
   "metadata": {},
   "outputs": [
    {
     "name": "stdin",
     "output_type": "stream",
     "text": [
      "금액을 입력하세요: 50 위안\n"
     ]
    },
    {
     "name": "stdout",
     "output_type": "stream",
     "text": [
      "8550.0원\n"
     ]
    }
   ],
   "source": [
    "환율 = {'달러' : 1167, '엔': 1.96 , '유로' : 1268 , '위안': 171}\n",
    "user_input = input(\"금액을 입력하세요:\")\n",
    "a,b = user_input.split(\" \")\n",
    "if b in 환율:\n",
    "    a = float(a)\n",
    "    won = a * 환율[b]\n",
    "\n",
    "print(str(won)+\"원\")"
   ]
  },
  {
   "cell_type": "markdown",
   "id": "dc75631a-4302-4b59-9d76-6dbc58cfe89a",
   "metadata": {},
   "source": [
    "# 124\n",
    "사용자로부터 세 개의 숫자를 입력 받은 후 가장 큰 숫자를 출력하라."
   ]
  },
  {
   "cell_type": "code",
   "execution_count": 95,
   "id": "c27279d8-db75-45fb-a0cc-4fd190c32865",
   "metadata": {},
   "outputs": [
    {
     "name": "stdin",
     "output_type": "stream",
     "text": [
      "첫 번째 숫자를 입력하세요 30\n",
      "두 번째 숫자를 입력하세요 50\n",
      "세 번째 숫자를 입력하세요 40\n"
     ]
    },
    {
     "name": "stdout",
     "output_type": "stream",
     "text": [
      "50\n"
     ]
    }
   ],
   "source": [
    "a = input(\"첫 번째 숫자를 입력하세요\")\n",
    "b = input(\"두 번째 숫자를 입력하세요\")\n",
    "c = input(\"세 번째 숫자를 입력하세요\")\n",
    "a = int(a)\n",
    "b = int(b)\n",
    "c = int(c)\n",
    "if a>b and a>c:\n",
    "    print(a)\n",
    "elif b>c and b>a:\n",
    "    print(b)\n",
    "elif c>a and c>b:\n",
    "    print(c)"
   ]
  },
  {
   "cell_type": "markdown",
   "id": "45963bcc-79a6-4b17-ac6b-42d36c524b50",
   "metadata": {},
   "source": [
    "# 125\n",
    "휴대폰 번호 앞자리에 따라 통신사는 아래와 같이 구분된다. 사용자로부터 휴대전화 번호를 입력 받고, 통신사를 출력하는 프로그램을 작성하라."
   ]
  },
  {
   "cell_type": "code",
   "execution_count": 97,
   "id": "be8a2ec4-3a1b-4730-9797-3876fc6db55b",
   "metadata": {},
   "outputs": [
    {
     "name": "stdin",
     "output_type": "stream",
     "text": [
      "휴대전화 번호 입력: 010-1111-1111\n"
     ]
    },
    {
     "name": "stdout",
     "output_type": "stream",
     "text": [
      "당신은 알수없음사용자입니다\n"
     ]
    }
   ],
   "source": [
    "보기 = {'011' :\"skt\", '016' :\"kt\" , '019' : \"lgu\" , '010' : \"알수없음\"}\n",
    "user_input = input(\"휴대전화 번호 입력:\")\n",
    "a,b,c = user_input.split(\"-\")\n",
    "if a in 보기:\n",
    "    a = str(a)\n",
    "    print(\"당신은 \" + 보기[a] + \" 사용자입니다\")"
   ]
  },
  {
   "cell_type": "code",
   "execution_count": 98,
   "id": "6e28af32-106d-443f-9cf6-2ccf0aa385c2",
   "metadata": {},
   "outputs": [
    {
     "name": "stdin",
     "output_type": "stream",
     "text": [
      "휴대전화 번호 입력: 011-1111-1111\n"
     ]
    },
    {
     "name": "stdout",
     "output_type": "stream",
     "text": [
      "당신은 skt 사용자입니다\n"
     ]
    }
   ],
   "source": [
    "보기 = {'011' :\"skt\", '016' :\"kt\" , '019' : \"lgu\" , '010' : \"알수없음\"}\n",
    "user_input = input(\"휴대전화 번호 입력:\")\n",
    "a,b,c = user_input.split(\"-\")\n",
    "if a in 보기:\n",
    "    a = str(a)\n",
    "    print(\"당신은 \" + 보기[a] + \" 사용자입니다\")"
   ]
  },
  {
   "cell_type": "code",
   "execution_count": 99,
   "id": "d0a7c960-bcb2-4a0c-bc20-f90b2e463ec4",
   "metadata": {},
   "outputs": [
    {
     "name": "stdin",
     "output_type": "stream",
     "text": [
      "휴대전화 번호 입력: 016-1111-1111\n"
     ]
    },
    {
     "name": "stdout",
     "output_type": "stream",
     "text": [
      "당신은 kt 사용자입니다\n"
     ]
    }
   ],
   "source": [
    "보기 = {'011' :\"skt\", '016' :\"kt\" , '019' : \"lgu\" , '010' : \"알수없음\"}\n",
    "user_input = input(\"휴대전화 번호 입력:\")\n",
    "a,b,c = user_input.split(\"-\")\n",
    "if a in 보기:\n",
    "    a = str(a)\n",
    "    print(\"당신은 \" + 보기[a] + \" 사용자입니다\")"
   ]
  },
  {
   "cell_type": "code",
   "execution_count": 100,
   "id": "aec35194-4ede-472d-bc3a-1503de915d0f",
   "metadata": {},
   "outputs": [
    {
     "name": "stdin",
     "output_type": "stream",
     "text": [
      "휴대전화 번호 입력: 019-1111-1111\n"
     ]
    },
    {
     "name": "stdout",
     "output_type": "stream",
     "text": [
      "당신은 lgu 사용자입니다\n"
     ]
    }
   ],
   "source": [
    "보기 = {'011' :\"skt\", '016' :\"kt\" , '019' : \"lgu\" , '010' : \"알수없음\"}\n",
    "user_input = input(\"휴대전화 번호 입력:\")\n",
    "a,b,c = user_input.split(\"-\")\n",
    "if a in 보기:\n",
    "    a = str(a)\n",
    "    print(\"당신은 \" + 보기[a] + \" 사용자입니다\")"
   ]
  },
  {
   "cell_type": "markdown",
   "id": "b5ed0e84-397a-4ad9-90bf-599c6b4f59b0",
   "metadata": {},
   "source": [
    "# 126\n",
    "우편번호는 5자리로 구성되는데, 앞의 세자리는 구를 나타낸다. 예를들어, 강북구의 경우 010, 011, 012 세 자리로 시작한다.\n",
    "사용자로 부터 5자리 우편번호를 입력받고 구를 판별하라"
   ]
  },
  {
   "cell_type": "code",
   "execution_count": 102,
   "id": "30e7dcd2-9649-436d-961f-f5358130292f",
   "metadata": {},
   "outputs": [
    {
     "name": "stdin",
     "output_type": "stream",
     "text": [
      "우편번호를 입력하세요: 01822\n"
     ]
    },
    {
     "name": "stdout",
     "output_type": "stream",
     "text": [
      "노원구\n"
     ]
    }
   ],
   "source": [
    "user_input = input(\"우편번호를 입력하세요:\")\n",
    "user_input = user_input[0:3]\n",
    "if user_input in (\"010\",\"011\",\"012\"):\n",
    "    print(\"강북구\")\n",
    "elif user_input in(\"013\",\"014\",\"015\"):\n",
    "    print(\"도봉구\")\n",
    "elif user_input in(\"016\",\"017\",\"018\"):\n",
    "    print(\"노원구\")"
   ]
  },
  {
   "cell_type": "markdown",
   "id": "0021a7e7-829e-4816-afa2-70f13b8ed9da",
   "metadata": {},
   "source": [
    "# 127\n",
    "주민등록번호 뒷 자리 7자리 중 첫째 자리는 성별을 나타내는데, 1, 3은 남자 2, 4는 여자를 의미한다.\n",
    "<br>사용자로부터 13자리의 주민등록번호를 입력 받은 후 성별 (남자, 여자)를 출력하는 프로그램을 작성하라."
   ]
  },
  {
   "cell_type": "code",
   "execution_count": 105,
   "id": "6f202d41-52e0-4f9b-bcff-5c14ce6c8852",
   "metadata": {},
   "outputs": [
    {
     "name": "stdin",
     "output_type": "stream",
     "text": [
      "주민번호를 입력해주세요: 950822-1111111\n"
     ]
    },
    {
     "name": "stdout",
     "output_type": "stream",
     "text": [
      "남자\n"
     ]
    }
   ],
   "source": [
    "주민번호 = input(\"주민번호를 입력해주세요:\")\n",
    "앞자리, 뒷자리 = 주민번호.split(\"-\")\n",
    "성별 = int(뒷자리[:1])\n",
    "if 성별 in(1,3):\n",
    "    print(\"남자\")\n",
    "elif 성별 in(2,4):\n",
    "    print(\"여자\")"
   ]
  },
  {
   "cell_type": "code",
   "execution_count": 106,
   "id": "7dec8657-2996-4b13-a71a-597d4d6190b3",
   "metadata": {},
   "outputs": [
    {
     "name": "stdin",
     "output_type": "stream",
     "text": [
      "주민번호를 입력해주세요: 950822-222222\n"
     ]
    },
    {
     "name": "stdout",
     "output_type": "stream",
     "text": [
      "여자\n"
     ]
    }
   ],
   "source": [
    "주민번호 = input(\"주민번호를 입력해주세요:\")\n",
    "앞자리, 뒷자리 = 주민번호.split(\"-\")\n",
    "성별 = int(뒷자리[:1])\n",
    "if 성별 in(1,3):\n",
    "    print(\"남자\")\n",
    "elif 성별 in(2,4):\n",
    "    print(\"여자\")"
   ]
  },
  {
   "cell_type": "markdown",
   "id": "75ad95c8-8619-44b7-be82-ec6384fca389",
   "metadata": {},
   "source": [
    "# 128\n",
    "주민등록번호의 뒷 자리 7자리 중 두번째와 세번째는 지역코드를 의미한다. 주민 등록 번호를 입력 받은 후 출생지가 서울인지 아닌지 판단하는 코드를 작성하라"
   ]
  },
  {
   "cell_type": "code",
   "execution_count": 113,
   "id": "9d977ba1-6f7b-4f81-aeb2-390419007232",
   "metadata": {},
   "outputs": [
    {
     "name": "stdin",
     "output_type": "stream",
     "text": [
      "주민번호를 입력해주세요:  861010-1015210\n"
     ]
    },
    {
     "name": "stdout",
     "output_type": "stream",
     "text": [
      "서울 출생입니다\n"
     ]
    }
   ],
   "source": [
    "주민번호 = input(\"주민번호를 입력해주세요:\")\n",
    "앞자리, 뒷자리 = 주민번호.split(\"-\")\n",
    "지역코드 = int(뒷자리[1:3])\n",
    "if 0<= 지역코드 <=8:\n",
    "    print(\"서울 출생입니다\")\n",
    "elif 9<= 지역코드 <=12:\n",
    "    print(\"부산 출생입니다\")"
   ]
  },
  {
   "cell_type": "code",
   "execution_count": 114,
   "id": "2d4b9f58-d50f-43fa-8285-41356f2e6f43",
   "metadata": {},
   "outputs": [
    {
     "name": "stdin",
     "output_type": "stream",
     "text": [
      "주민번호를 입력해주세요: 821010-1635210\n"
     ]
    },
    {
     "name": "stdout",
     "output_type": "stream",
     "text": [
      "서울 또는 부산 이외의 지역 출생입니다.\n"
     ]
    }
   ],
   "source": [
    "주민번호 = input(\"주민번호를 입력해주세요:\")\n",
    "앞자리, 뒷자리 = 주민번호.split(\"-\")\n",
    "지역코드 = int(뒷자리[2:4])\n",
    "\n",
    "if 0 <= 지역코드 <= 8:\n",
    "    print(\"서울 출생입니다.\")\n",
    "elif 9 <= 지역코드 <= 12:\n",
    "    print(\"부산 출생입니다.\")\n",
    "else:\n",
    "    print(\"서울 또는 부산 이외의 지역 출생입니다.\")"
   ]
  },
  {
   "cell_type": "markdown",
   "id": "bfb18a03-3029-44e3-8085-94c53d83420b",
   "metadata": {},
   "source": [
    "# 129\n",
    "주민등록번호는 13자리로 구성되는데 마지막 자리수는 주민등록번호의 유효성을 체크하는데 사용된다.\n",
    "<br>먼저 앞에서부터 12자리의 숫자에 2, 3, 4, 5, 6, 7, 8, 9, 2, 3, 4, 5를 차례로 곱한 뒤 그 값을 전부 더한다. <br>\n",
    "연산 결과 값을 11로 나누면 나머지가 나오는데 11에서 나머지를 뺀 값이 주민등록번호의 마지막 번호가 된다.\n",
    "<br>다음과 같이 사용자로부터 주민등록번호를 입력받은 후 주민등록번호가 유효한지를 출력하는 프로그램을 작성하라."
   ]
  },
  {
   "cell_type": "code",
   "execution_count": 127,
   "id": "808b0f9e-a5b9-4d53-b2fb-5bc1e0746b44",
   "metadata": {},
   "outputs": [
    {
     "name": "stdin",
     "output_type": "stream",
     "text": [
      "주민번호를 입력해주세요: 821010-1635210\n"
     ]
    },
    {
     "name": "stdout",
     "output_type": "stream",
     "text": [
      "4\n",
      "유효한 주민등록번호가 아닙니다\n"
     ]
    }
   ],
   "source": [
    "num = input(\"주민번호를 입력해주세요:\")\n",
    "계산1 = int(num[0]) * 2 + int(num[1]) * 3 + int(num[2]) * 4 + int(num[3]) * 5 + int(num[4]) * 6 + \\\n",
    "        int(num[5]) * 7 + int(num[7]) * 8 + int(num[8]) * 9 + int(num[9]) * 2 + int(num[10])* 3 + \\\n",
    "        int(num[11])* 4 + int(num[12]) * 5\n",
    "계산1 = 계산1%11\n",
    "계산1 = str(11-계산1)\n",
    "print(계산1)\n",
    "if 계산1 == num[-1]:\n",
    "    print(\"유효한 주민등록번호입니다\")\n",
    "else:\n",
    "    print(\"유효한 주민등록번호가 아닙니다\")\n",
    "    \n",
    "    "
   ]
  },
  {
   "cell_type": "markdown",
   "id": "d8aa54ce-d9de-46f7-a191-c908a6c48b8f",
   "metadata": {},
   "source": [
    "# 130\n",
    "아래 코드는 비트코인의 가격 정보를 딕셔너리로 가져오는 코드이다."
   ]
  },
  {
   "cell_type": "code",
   "execution_count": 130,
   "id": "9e182334-fd85-42e4-b276-c4a92dbadbf3",
   "metadata": {},
   "outputs": [],
   "source": [
    "import requests\n",
    "btc = requests.get(\"https://api.bithumb.com/public/ticker/\").json()['data']"
   ]
  },
  {
   "cell_type": "markdown",
   "id": "9c9f8640-2c23-400b-b5c8-74cbad8fa990",
   "metadata": {},
   "source": [
    "btc 딕셔너리 안에는 시가, 종가, 최고가, 최저가 등이 저장되어 있다.\n",
    "<br>최고가와 최저가의 차이를 변동폭으로 정의할 때 (시가 + 변동폭)이 최고가 보다 높을 경우 \"상승장\", 그렇지 않은 경우 \"하락장\" 문자열을 출력하라."
   ]
  },
  {
   "cell_type": "code",
   "execution_count": 132,
   "id": "e083399d-798e-4c6e-b140-e43b0977d303",
   "metadata": {},
   "outputs": [
    {
     "name": "stdout",
     "output_type": "stream",
     "text": [
      "상승장\n"
     ]
    }
   ],
   "source": [
    "변동폭  = float(btc['max_price'])-float(btc['min_price'])\n",
    "if float(btc['opening_price'])+변동폭 > float(btc['max_price']):\n",
    "    print(\"상승장\")\n",
    "else:\n",
    "    print(\"하락장\")"
   ]
  },
  {
   "cell_type": "markdown",
   "id": "fb06f5af-fe3f-41fd-b09e-9ef0c707cb66",
   "metadata": {},
   "source": [
    "# 심화문제: 회원 관리 시스템 개발\n",
    "1.회원가입<br>\n",
    "사용자 아이디, 사용자 비밀번호, 사용자 이메일<br>\n",
    "사용자 아이디는 반드시 하나만 존재할 것<br>\n",
    "사용자 비밀번호는 다음의 특수문자 중 하나 이상을 반드시 포함할 것 (특수문자: !@#$%^&*)<br>\n",
    "사용자 이메일은 다음의 형식을 같출 것: 가능 이메일(you359@sehan.ac.kr), 불가능 이메일(you359@naver.com, you359@sehan.ac_kr)<br>\n",
    "   + @로 구분됨<br>\n",
    "   + @뒤의 문자열은 .으로 구분됨 (점 2개, 학교 이메일만 가능)<br><br>\n",
    "2.로그인<br>\n",
    "로그인 가능 조건:<br>\n",
    "   + 회원의 아이디가 존재해야 함<br>\n",
    "   + 해당 아이디에 대한 회원의 비밀번호가 같아야 함<br><br>\n",
    "\n",
    "회원정보수정<br>\n",
    "상기 로그인 가능 조건을 확인한 후, 조건을 만족하면 사용자로부터 비밀번호와 이메일을 입력받아 수정<br>\n",
    "회원정보삭제<br>\n",
    "상기 로그인 가능 조건을 확인한 후, 조건을 만족하면 사용자 아이디에 해당하는 정보를 삭제할 것<br>"
   ]
  },
  {
   "cell_type": "code",
   "execution_count": 3,
   "id": "04530f5f-85ac-4fc3-8775-232fb371aab6",
   "metadata": {},
   "outputs": [
    {
     "name": "stdin",
     "output_type": "stream",
     "text": [
      "아이디 입력: 1234\n"
     ]
    },
    {
     "name": "stdout",
     "output_type": "stream",
     "text": [
      "사용 가능한 아이디 입니다\n"
     ]
    },
    {
     "name": "stdin",
     "output_type": "stream",
     "text": [
      "비밀번호 입력: 1234@\n"
     ]
    },
    {
     "name": "stdout",
     "output_type": "stream",
     "text": [
      "사용 가능한 비밀번호 입니다\n"
     ]
    },
    {
     "name": "stdin",
     "output_type": "stream",
     "text": [
      "이메일 입력: 1234@sehan.ac.kr\n"
     ]
    },
    {
     "name": "stdout",
     "output_type": "stream",
     "text": [
      "사용 가능한 이메일입니다\n",
      "회원가입 성공\n"
     ]
    }
   ],
   "source": [
    "\n",
    "#회원가입\n",
    "member = {\"id\":[\"pw\",\"email\"]}\n",
    "isId = False\n",
    "isPw = False\n",
    "isEmail = False\n",
    "\n",
    "#아이디\n",
    "id = input(\"아이디 입력:\")\n",
    "if id in member:\n",
    "    print(\"중복된 아이디 입니다\")\n",
    "else:\n",
    "    print(\"사용 가능한 아이디 입니다\")\n",
    "    isId = True;\n",
    "\n",
    "#비밀먼호\n",
    "pw = input(\"비밀번호 입력:\")\n",
    "set_pw = set(pw)\n",
    "must_in_pw = set(\"!@#$%^&*\")\n",
    "if set_pw & must_in_pw :\n",
    "    print(\"사용 가능한 비밀번호 입니다\")\n",
    "    isPw = True;\n",
    "else:\n",
    "   print(\"비밀번호에는 특수문자\"+ ''.join(must_in_pw) + \"중 하나가 들어가야 합니다\")\n",
    "\n",
    "#이메일\n",
    "email = input(\"이메일 입력:\")\n",
    "div_email = email.split(\"@\")[-1]\n",
    "div_email2 = div_email.split(\".\")\n",
    "must_in_email = ['sehan', 'ac', 'kr']\n",
    "if (len(user_email.split(\"@\")) == 2 and len(user_email.split(\"@\")[-1].split(\".\")) == 3):\n",
    "    print(\"사용가능한 이메일입니다\")\n",
    "    isEmail = True;\n",
    "else:\n",
    "    print(\"사용 불가능한 이메일 입니다\")\n",
    "\n",
    "if isId and isPw and isEmail:\n",
    "    member[id] = [pw,email]\n",
    "    print(\"회원가입 성공\")\n",
    "    \n",
    "else:\n",
    "    print(\"회원가입 실패\")\n",
    "\n",
    "    \n",
    "\n",
    "\n"
   ]
  },
  {
   "cell_type": "code",
   "execution_count": 178,
   "id": "a24a2281-df87-41e4-afcc-593f27c1f1fa",
   "metadata": {},
   "outputs": [
    {
     "name": "stdout",
     "output_type": "stream",
     "text": [
      "로그인 입력창입니다\n"
     ]
    },
    {
     "name": "stdin",
     "output_type": "stream",
     "text": [
      "아이디를 입력해주세요 1234\n"
     ]
    },
    {
     "name": "stdout",
     "output_type": "stream",
     "text": [
      "존재하는 아이디입니다\n"
     ]
    },
    {
     "name": "stdin",
     "output_type": "stream",
     "text": [
      "비밀번호을 입력해주세요 1234@\n"
     ]
    },
    {
     "name": "stdout",
     "output_type": "stream",
     "text": [
      "아이디와 비밀번호가 일치합니다\n",
      "로그인 성공\n"
     ]
    }
   ],
   "source": [
    "#로그인\n",
    "isLogin = False\n",
    "\n",
    "print(\"로그인 입력창입니다\")\n",
    "#아이디 입력\n",
    "input_id = input(\"아이디를 입력해주세요\")\n",
    "if input_id in member:\n",
    "    print(\"존재하는 아이디입니다\")\n",
    "    login_id = input_id\n",
    "    isLoginId = True;\n",
    "else:\n",
    "    print(\"존재하지 않는 아이디입니다\")\n",
    "#비밀번호 입력\n",
    "input_pw = input(\"비밀번호을 입력해주세요\")\n",
    "if input_pw == member[login_id][0] and  isLoginId:\n",
    "   \n",
    "    print(\"아이디와 비밀번호가 일치합니다\")\n",
    "    login_pw = input_pw\n",
    "    isLogin = True\n",
    "    print(\"로그인 성공\")\n",
    "else:\n",
    "    print(\"비밀번호가 다릅니다\")\n",
    "\n"
   ]
  },
  {
   "cell_type": "code",
   "execution_count": 4,
   "id": "6860ab2c-755b-4f76-a714-453dc8db7b55",
   "metadata": {},
   "outputs": [
    {
     "name": "stdout",
     "output_type": "stream",
     "text": [
      "로그인 입력창입니다\n"
     ]
    },
    {
     "name": "stdin",
     "output_type": "stream",
     "text": [
      "아이디를 입력해주세요 1234\n"
     ]
    },
    {
     "name": "stdout",
     "output_type": "stream",
     "text": [
      "존재하는 아이디입니다\n"
     ]
    },
    {
     "name": "stdin",
     "output_type": "stream",
     "text": [
      "비밀번호을 입력해주세요 1234@\n"
     ]
    },
    {
     "name": "stdout",
     "output_type": "stream",
     "text": [
      "아이디와 비밀번호가 일치합니다\n",
      "로그인 성공\n"
     ]
    },
    {
     "name": "stdin",
     "output_type": "stream",
     "text": [
      "수정할 비밀번호를 입력해주세요 1111@\n"
     ]
    },
    {
     "name": "stdout",
     "output_type": "stream",
     "text": [
      "비밀번호가 수정되었습니다\n"
     ]
    },
    {
     "name": "stdin",
     "output_type": "stream",
     "text": [
      "수정할 이메일을 입력해주세요 1111@sehan.ac.kr\n"
     ]
    },
    {
     "name": "stdout",
     "output_type": "stream",
     "text": [
      "이메일이 수정되엇습니다\n",
      "회원정보 수정 성공\n"
     ]
    }
   ],
   "source": [
    "# 회원정보 수정\n",
    "\n",
    "#로그인\n",
    "isLogin = False\n",
    "isloginId = False\n",
    "isloginPw = False\n",
    "isUpdatePw = False\n",
    "isUpdateEmail = False\n",
    "print(\"로그인 입력창입니다\")\n",
    "\n",
    "#아이디 입력\n",
    "input_id = input(\"아이디를 입력해주세요\")\n",
    "if input_id in member:\n",
    "    print(\"존재하는 아이디입니다\")\n",
    "    login_id = input_id\n",
    "    isLoginId = True;\n",
    "else:\n",
    "    print(\"존재하지 않는 아이디입니다\")\n",
    "\n",
    "#비밀번호 입력\n",
    "input_pw = input(\"비밀번호을 입력해주세요\")\n",
    "if input_pw == member[login_id][0] and  isLoginId:\n",
    "   \n",
    "    print(\"아이디와 비밀번호가 일치합니다\")\n",
    "    login_pw = input_pw\n",
    "    isLoginPW = True\n",
    "    isLogin = True\n",
    "    print(\"로그인 성공\")\n",
    "else:\n",
    "    print(\"비밀번호가 다릅니다\")\n",
    "\n",
    "#비밀번호 수정\n",
    "if isLogin:\n",
    "    update_pw = input(\"수정할 비밀번호를 입력해주세요\")\n",
    "    set_pw = set(update_pw)\n",
    "    must_in_pw = set(\"!@#$%^&*\")\n",
    "\n",
    "if set_pw & must_in_pw :\n",
    "    member[login_id][0] = update_pw\n",
    "    print(\"비밀번호가 수정되었습니다\")\n",
    "    isUpdatePw = True;\n",
    "else:\n",
    "   print(\"비밀번호에는 특수문자\"+ ''.join(must_in_pw) + \"중 하나가 들어가야 합니다\")\n",
    "\n",
    "#이메일 수정\n",
    "update_email = input(\"수정할 이메일을 입력해주세요\")\n",
    "div_email = update_email.split(\"@\")[-1]\n",
    "div_email2 = div_email.split(\".\")\n",
    "must_in_email = ['sehan', 'ac', 'kr']\n",
    "if (len(user_email.split(\"@\")) == 2 and len(user_email.split(\"@\")[-1].split(\".\")) == 3):\n",
    "    print(\"이메일이 수정되었습니다\")\n",
    "    isUpdateEmail = True;\n",
    "else:\n",
    "    print(\"사용 불가능한 이메일 입니다\")\n",
    "\n",
    "if isUpdatePw and isUpdateEmail:\n",
    "    print(\"회원정보 수정 성공\")\n",
    "else:\n",
    "    print(\"회원정보 수정 실패\")\n"
   ]
  },
  {
   "cell_type": "code",
   "execution_count": null,
   "id": "147bb67c-c608-45a8-a28f-17a5982af5fc",
   "metadata": {},
   "outputs": [
    {
     "name": "stdout",
     "output_type": "stream",
     "text": [
      "로그인 입력창입니다\n"
     ]
    }
   ],
   "source": [
    "#회원정보삭제\n",
    "#상기 로그인 가능 조건을 확인한 후, 조건을 만족하면 사용자 아이디에 해당하는 정보를 삭제할 것\n",
    "#로그인\n",
    "isLogin = False\n",
    "isloginId = False\n",
    "isloginPw = False\n",
    "\n",
    "print(\"로그인 입력창입니다\")\n",
    "\n",
    "#아이디 입력\n",
    "input_id = input(\"아이디를 입력해주세요\")\n",
    "if input_id in member:\n",
    "    print(\"존재하는 아이디입니다\")\n",
    "    login_id = input_id\n",
    "    isLoginId = True;\n",
    "else:\n",
    "    print(\"존재하지 않는 아이디입니다\")\n",
    "\n",
    "#비밀번호 입력\n",
    "input_pw = input(\"비밀번호을 입력해주세요\")\n",
    "if input_pw == member[login_id][0] and  isLoginId:\n",
    "   \n",
    "    print(\"아이디와 비밀번호가 일치합니다\")\n",
    "    login_pw = input_pw\n",
    "    isLoginPW = True\n",
    "    isLogin = True\n",
    "    print(\"로그인 성공\")\n",
    "else:\n",
    "    print(\"비밀번호가 다릅니다\")\n",
    "\n",
    "#회원 삭제\n",
    "if isLogin:\n",
    "    userInput = input(\"회원정보를 삭제하시겠습니까 1:예 2:아니오\")\n",
    "\n",
    "if userInput == '1':\n",
    "    del member[login_id]\n",
    "    print(\"계정 삭제 완료\")\n",
    "else:\n",
    "    print(\"계정 삭제 실패\")\n",
    "    "
   ]
  },
  {
   "cell_type": "code",
   "execution_count": null,
   "id": "332ae458-894a-4010-a70f-8aaeac0190a7",
   "metadata": {},
   "outputs": [],
   "source": []
  }
 ],
 "metadata": {
  "kernelspec": {
   "display_name": "Python 3 (ipykernel)",
   "language": "python",
   "name": "python3"
  },
  "language_info": {
   "codemirror_mode": {
    "name": "ipython",
    "version": 3
   },
   "file_extension": ".py",
   "mimetype": "text/x-python",
   "name": "python",
   "nbconvert_exporter": "python",
   "pygments_lexer": "ipython3",
   "version": "3.11.7"
  }
 },
 "nbformat": 4,
 "nbformat_minor": 5
}
